{
  "nbformat": 4,
  "nbformat_minor": 0,
  "metadata": {
    "colab": {
      "name": "002_深層学習の基礎（MNISTを用いた畳み込みニューラルネットワーク）.ipynb",
      "provenance": [],
      "collapsed_sections": [],
      "toc_visible": true
    },
    "kernelspec": {
      "name": "python3",
      "display_name": "Python 3"
    },
    "accelerator": "GPU"
  },
  "cells": [
    {
      "cell_type": "markdown",
      "metadata": {
        "id": "XAr5I2dxihOI"
      },
      "source": [
        "<a href=\"https://colab.research.google.com/github/mjvakili/Land_use_classification/blob/master/land_cover_vanila_classification.ipynb\" target=\"_parent\"><img src=\"https://colab.research.google.com/assets/colab-badge.svg\" alt=\"Open In Colab\"/></a>"
      ]
    },
    {
      "cell_type": "markdown",
      "metadata": {
        "id": "oxerrJbGesj7"
      },
      "source": [
        "# **このノートブックについて**\n",
        "\n",
        "---\n",
        "\n",
        "\n",
        "本ノートブックは深層学習の最初の第一歩として自学自習や研修等でお使いいただけるよう、元村和史(Kazushi Motomura)が作成、公開しているものです。\n",
        "\n",
        "自由にお使いいただけますが、よりよいノートブックに出来ればと思っておりますので、使用した感想等を作成者にお寄せ頂けると幸いです。私自身もまだまだ勉強中ですので、是非よろしくお願いいたします。\n",
        "\n",
        "このノートブックはPythonの基本的なコードで書かれてはいるものの、その使い方を一行一行解説するものではありません。\n",
        "ただし、特に知識がなくてもGoogleColabratry上で「Shift+Enter」を連打すればとにかく動くように作っています。動いている深層学習モデルを触って動かすことが出来るので、Pythonにそこまで馴染みがなくても、「何となく」深層学習モデルを作成して、動かしてみることができます。(試しに「Shift+Enter」を連打して最後まで進めてみてください)\n",
        "\n",
        "何となく動いてしまうので、馴染みのない方は気持ち悪く感じるかもしれませんが、まさにそれが入り口です。このノートブックに書かれているコードは基本的なものばかりですので1行1行何をしているのか調べながら追っていただくことで、Pythonの勉強の導入としてお使いいただけると思います。\n",
        "\n",
        "本ノートブックの作成に当たって参考にしたサイト等は以下です。是非ご活用ください。\n",
        "\n",
        "*   https://github.com/LinguoLi/mnist_tutorial\n",
        "*   https://github.com/wxs/keras-mnist-tutorial/blob/master/MNIST%20in%20Keras.ipynb\n",
        "* https://github.com/yashk2810/MNIST-Keras\n",
        "\n"
      ]
    },
    {
      "cell_type": "markdown",
      "metadata": {
        "id": "YUG_cUDaiPhb"
      },
      "source": [
        "# **このノートブックで動くもの**\n",
        "---\n",
        "このノートブックでは「手書き文字認識」データセットであるMNISTを使って、**手書きの文字（数字）が何の数字かを判定する畳み込みニューラルネットワークの学習から予測、結果の確認**まで行うことが出来ます。"
      ]
    },
    {
      "cell_type": "markdown",
      "metadata": {
        "id": "OT6GkBKAfTz-"
      },
      "source": [
        "# **このノートブックの構成**\n",
        "---\n",
        "このノートブックは以下の構成になっています。\n",
        "\n",
        "1. 学習データとテストデータ\n",
        "2. データの前処理\n",
        "3. 深層学習モデルの作成\n",
        "4. モデルの学習と出力\n",
        "5. 精度向上にチャレンジ\n",
        "\n",
        "各セルに[Work]と入っているセルは、少しコードの中身を変更してみるパートです。是非ご自身で手を動かしてみてください。\n",
        "\n",
        "\n"
      ]
    },
    {
      "cell_type": "markdown",
      "metadata": {
        "id": "HDErpU07lo2J"
      },
      "source": [
        "# **【前処理】学習データとテストデータ**\n",
        "---\n"
      ]
    },
    {
      "cell_type": "markdown",
      "metadata": {
        "id": "3z-Dve35ky0I"
      },
      "source": [
        "## **MNISTのインポート**\n",
        "MNISTはあらかじめダウンロードして利用することもできますが、今回はGoogleColabに直接ダウンロードして使用します。\n"
      ]
    },
    {
      "cell_type": "markdown",
      "metadata": {
        "id": "Qx8TJdWykICD"
      },
      "source": [
        "MNISTをロードします。\n",
        "\n"
      ]
    },
    {
      "cell_type": "code",
      "metadata": {
        "id": "IacYWApckXLJ"
      },
      "source": [
        "import tensorflow as tf #TensorFlowのロード\n",
        "mnist = tf.keras.datasets.mnist #MNISTデータセットのセット"
      ],
      "execution_count": null,
      "outputs": []
    },
    {
      "cell_type": "markdown",
      "metadata": {
        "id": "0SoDeNY7kQbD"
      },
      "source": [
        "ロードしたMNISTを扱い易い配列に入れます。\n",
        "*   x_train : 学習用の入力データ\n",
        "*   y_train : 学習用の正解データ（x_trainが何の数字かというデータが入っている）\n",
        "\n",
        "\n",
        "*   x_test : テスト用の入力データ\n",
        "*   y_test : テスト用の正解データ（x_trainが何の数字かというデータが入っている）\n",
        "\n",
        "\n"
      ]
    },
    {
      "cell_type": "code",
      "metadata": {
        "id": "pY-Wkxxji81G",
        "colab": {
          "base_uri": "https://localhost:8080/"
        },
        "outputId": "65782eab-e11c-4458-ef1e-1d3587a02d63"
      },
      "source": [
        "(x_train, y_train), (x_test, y_test) = mnist.load_data() #MNIST画像を配列に入れる"
      ],
      "execution_count": null,
      "outputs": [
        {
          "output_type": "stream",
          "text": [
            "Downloading data from https://storage.googleapis.com/tensorflow/tf-keras-datasets/mnist.npz\n",
            "11493376/11490434 [==============================] - 0s 0us/step\n"
          ],
          "name": "stdout"
        }
      ]
    },
    {
      "cell_type": "markdown",
      "metadata": {
        "id": "AI_QMz51lFiD"
      },
      "source": [
        "何枚画像が入っているか確認します。"
      ]
    },
    {
      "cell_type": "code",
      "metadata": {
        "id": "3RHYjxumity3",
        "colab": {
          "base_uri": "https://localhost:8080/"
        },
        "outputId": "2bfce383-b711-42b7-9ac0-ca203a149698"
      },
      "source": [
        "print(\"MNISTは\",x_train.shape[0]+x_test.shape[0],\"枚ロードされました、\")#ロードされたMNIST画像枚数を確認する"
      ],
      "execution_count": null,
      "outputs": [
        {
          "output_type": "stream",
          "text": [
            "MNISTは 70000 枚ロードされました、\n"
          ],
          "name": "stdout"
        }
      ]
    },
    {
      "cell_type": "markdown",
      "metadata": {
        "id": "Dah4HoFhiW6j"
      },
      "source": [
        "## MNIST画像の表示\n",
        "ロードしたMNIST画像を確認してみましょう。"
      ]
    },
    {
      "cell_type": "code",
      "metadata": {
        "id": "k5bLBmN_u5C3",
        "colab": {
          "base_uri": "https://localhost:8080/",
          "height": 282
        },
        "outputId": "5ff1741f-c694-4660-94d0-44e7430da48f"
      },
      "source": [
        "import matplotlib.pyplot as plt\n",
        "img_num=3\n",
        "plt.imshow(x_train[img_num,:,:]) #画像を表示する\n",
        "print(\"表示している画像は\",y_train[img_num],\"です。\")#表示している画像の数字を確認する。"
      ],
      "execution_count": null,
      "outputs": [
        {
          "output_type": "stream",
          "text": [
            "表示している画像は 1 です。\n"
          ],
          "name": "stdout"
        },
        {
          "output_type": "display_data",
          "data": {
            "image/png": "[encoded data removed]",
            "text/plain": [
              "<Figure size 432x288 with 1 Axes>"
            ]
          },
          "metadata": {
            "tags": [],
            "needs_background": "light"
          }
        }
      ]
    },
    {
      "cell_type": "markdown",
      "metadata": {
        "id": "GDLRNsBWmJoq"
      },
      "source": [
        "### [Work]**自分の好きな番号を入力して、MNIST画像を表示してみましょう。**\n",
        "\n",
        "img_numの数字を好きな数字に変更してみてください。\n",
        "\n",
        "例）　```img_num = 10000```　を　```img_num = 128```に変更"
      ]
    },
    {
      "cell_type": "code",
      "metadata": {
        "id": "Qq-Wvj0ymE7o",
        "colab": {
          "base_uri": "https://localhost:8080/",
          "height": 282
        },
        "outputId": "bd713b0b-d03d-4acc-b244-77778f15ec75"
      },
      "source": [
        "### img_numの数字を自分の好きな数字（60000以下）を設定して確認しましょう\n",
        "\n",
        "img_num=10000 #任意の画像番号\n",
        "\n",
        "###\n",
        "\n",
        "### ↓操作しないでください\n",
        "plt.imshow(x_train[img_num,:,:]) #画像を表示する\n",
        "print(\"表示している画像は\",y_train[img_num],\"です。\")#表示している画像の数字を確認する。\n",
        "### ↑操作しないでください\n"
      ],
      "execution_count": null,
      "outputs": [
        {
          "output_type": "stream",
          "text": [
            "表示している画像は 3 です。\n"
          ],
          "name": "stdout"
        },
        {
          "output_type": "display_data",
          "data": {
            "image/png": "[encoded data removed]",
            "text/plain": [
              "<Figure size 432x288 with 1 Axes>"
            ]
          },
          "metadata": {
            "tags": [],
            "needs_background": "light"
          }
        }
      ]
    },
    {
      "cell_type": "markdown",
      "metadata": {
        "id": "Azai5AHtlxih"
      },
      "source": [
        "少し沢山のMNIST画像を確認してみましょう。"
      ]
    },
    {
      "cell_type": "code",
      "metadata": {
        "id": "ps4fVwYdl3RN",
        "colab": {
          "base_uri": "https://localhost:8080/",
          "height": 499
        },
        "outputId": "9c2f0883-0c66-4d58-dd42-a594cfc0c486"
      },
      "source": [
        "plt.rcParams['figure.figsize'] = (8,8)\n",
        "for i in range(9):\n",
        "    plt.subplot(3,3,i+1)\n",
        "    plt.imshow(x_train[i], interpolation='none')\n",
        "    plt.title(\"Class {}\".format(y_train[i]))"
      ],
      "execution_count": null,
      "outputs": [
        {
          "output_type": "display_data",
          "data": {
            "image/png": "[encoded data removed]",
            "text/plain": [
              "<Figure size 576x576 with 9 Axes>"
            ]
          },
          "metadata": {
            "tags": [],
            "needs_background": "light"
          }
        }
      ]
    },
    {
      "cell_type": "markdown",
      "metadata": {
        "id": "UtNTu719r58A"
      },
      "source": [
        "# **【前処理】データの前処理**\n",
        "---\n",
        "モデルが学習しやすくするために前処理を施します。"
      ]
    },
    {
      "cell_type": "markdown",
      "metadata": {
        "id": "s7-JzBZpsCiy"
      },
      "source": [
        "## 正規化する\n",
        "通常MNISTの画像は各ピクセル毎に0～255の256諧調（8bit）で濃淡を表すデータが格納されています。この各ピクセルの値を0～1の間に収まるように255で割っておきます。こうしたデータの値の範囲（スケール）を揃える処理を正規化といいます。正規化する理由は深層学習モデルの学習効率を上げるためです。\n",
        "\n",
        "学習するデータによってはデータの値の範囲（スケール）が異なるデータが混在する場合があり、正規化はそうした場合に特に効果があります。\n",
        "例えば65536諧調（16bit）の画像場合、各ピクセル値は0～65535の範囲の値となり、8bitよりも非常に大きい値になります。機械学習モデルが学習する際にこうしたスケールの異なるデータが混在すると、深層学習モデルの学習効率が悪くなります。"
      ]
    },
    {
      "cell_type": "code",
      "metadata": {
        "id": "WnpxEnj5t7BI"
      },
      "source": [
        "x_train, x_test = x_train / 255.0, x_test / 255.0 #MNIST画像を正規化"
      ],
      "execution_count": null,
      "outputs": []
    },
    {
      "cell_type": "markdown",
      "metadata": {
        "id": "6Tdoz_mHwW2B"
      },
      "source": [
        "## **One-hotエンコーディング**\n",
        "y_trainとy_testには「０～９」の数字がそのまま入っています。\n",
        "\n",
        "数字のままだとモデルで学習しにくいので、OneHotエンコーディングを行います。\n",
        "\n",
        "OneHotとは数字データを０と１に変換し、１の場所によって表す方法です。\n",
        "\n",
        "少しわかりにくいので例を見てください。\n",
        "\n",
        "例えば[0. 1. 2. 3. 4. 5. 6. 7. 8. 9.]がそれぞれの場所だとすると、\n",
        "\n",
        "* 「０」は「1,0,0,0,0,0,0,0,0,0」\n",
        "* 「３」は「0,0,1,0,0,0,0,0,0,0」\n",
        "* 「８」は「0,0,1,0,0,0,0,0,1,0」\n",
        "\n",
        "といったような形で、10個ゼロを並べてどの位置が1になるかで「0～9」の数字を表す方法です。\n"
      ]
    },
    {
      "cell_type": "markdown",
      "metadata": {
        "id": "pkbUgqUGmveJ"
      },
      "source": [
        "早速ロードしたデータを変換しておきます。"
      ]
    },
    {
      "cell_type": "code",
      "metadata": {
        "id": "7863wFhxweE1"
      },
      "source": [
        "from keras.utils import np_utils\n",
        "Y_train = np_utils.to_categorical(y_train, 10)\n",
        "Y_test = np_utils.to_categorical(y_test, 10)"
      ],
      "execution_count": null,
      "outputs": []
    },
    {
      "cell_type": "markdown",
      "metadata": {
        "id": "JgFnK6yXzouU"
      },
      "source": [
        "ひとつ確認してみましょう"
      ]
    },
    {
      "cell_type": "code",
      "metadata": {
        "id": "DPCnPrhbyof1",
        "colab": {
          "base_uri": "https://localhost:8080/"
        },
        "outputId": "5ddb2df7-746d-46e6-caa9-43d2c2a55861"
      },
      "source": [
        "img_num=10000\n",
        "print(\"元の数字は\", y_train[img_num], \"です。\")\n",
        "print(\"どの位置が1になっているかで数字を表現しています。\")\n",
        "print(\"[0. 1. 2. 3. 4. 5. 6. 7. 8. 9.]\")\n",
        "print(Y_train[img_num])"
      ],
      "execution_count": null,
      "outputs": [
        {
          "output_type": "stream",
          "text": [
            "元の数字は 3 です。\n",
            "どの位置が1になっているかで数字を表現しています。\n",
            "[0. 1. 2. 3. 4. 5. 6. 7. 8. 9.]\n",
            "[0. 0. 0. 1. 0. 0. 0. 0. 0. 0.]\n"
          ],
          "name": "stdout"
        }
      ]
    },
    {
      "cell_type": "markdown",
      "metadata": {
        "id": "X4cHatdOzwWQ"
      },
      "source": [
        "### **[Work]OneHotエンコーディングを確認してみましょう**\n"
      ]
    },
    {
      "cell_type": "code",
      "metadata": {
        "id": "lojY_L_CzsV9",
        "colab": {
          "base_uri": "https://localhost:8080/"
        },
        "outputId": "b8a86674-f93e-4784-ea38-7f25f5033606"
      },
      "source": [
        "### img_numの数字を自分の好きな数字（60000以下）を設定して確認しましょう\n",
        "\n",
        "img_num=2000 #任意の画像番号\n",
        "\n",
        "###\n",
        "print(\"元の数字は\", y_train[img_num], \"です。\")\n",
        "print(\"どの位置が1になっているかで数字を表現しています。\")\n",
        "print(\"[0. 1. 2. 3. 4. 5. 6. 7. 8. 9.]\")\n",
        "print(Y_train[img_num])"
      ],
      "execution_count": null,
      "outputs": [
        {
          "output_type": "stream",
          "text": [
            "元の数字は 5 です。\n",
            "どの位置が1になっているかで数字を表現しています。\n",
            "[0. 1. 2. 3. 4. 5. 6. 7. 8. 9.]\n",
            "[0. 0. 0. 0. 0. 1. 0. 0. 0. 0.]\n"
          ],
          "name": "stdout"
        }
      ]
    },
    {
      "cell_type": "markdown",
      "metadata": {
        "id": "uvIJ5B0esmJL"
      },
      "source": [
        "## **次元を追加する**\n",
        "今回扱う深層学習モデルに入力するために次元を追加します。\n",
        "\n",
        "先ず、先ほどと同じように今のデータの大きさを確認します。"
      ]
    },
    {
      "cell_type": "code",
      "metadata": {
        "id": "J2W81owttCX5",
        "colab": {
          "base_uri": "https://localhost:8080/"
        },
        "outputId": "1c717651-0f77-4189-f1d6-a7f85a0bfdd4"
      },
      "source": [
        "print(\"x_train配列の大きさは\",x_train.shape,\"です。\")\n",
        "print(\"y_train配列の大きさは\",y_train.shape,\"です。\")\n",
        "print(\"x_test配列の大きさは\",x_test.shape,\"です。\")\n",
        "print(\"y_test配列の大きさは\",y_test.shape,\"です。\")"
      ],
      "execution_count": null,
      "outputs": [
        {
          "output_type": "stream",
          "text": [
            "x_train配列の大きさは (60000, 28, 28) です。\n",
            "y_train配列の大きさは (60000,) です。\n",
            "x_test配列の大きさは (10000, 28, 28) です。\n",
            "y_test配列の大きさは (10000,) です。\n"
          ],
          "name": "stdout"
        }
      ]
    },
    {
      "cell_type": "markdown",
      "metadata": {
        "id": "qKeHYeKqtL3d"
      },
      "source": [
        "配列に次元を追加する処理を行います。"
      ]
    },
    {
      "cell_type": "code",
      "metadata": {
        "id": "bR15e6hMszAC"
      },
      "source": [
        "# (60000, 28, 28)を(60000, 28, 28, 1)に次元を追加\n",
        "x_train = x_train[..., tf.newaxis]\n",
        "x_test = x_test[..., tf.newaxis]"
      ],
      "execution_count": null,
      "outputs": []
    },
    {
      "cell_type": "code",
      "metadata": {
        "id": "XQW12bCUtSd3",
        "colab": {
          "base_uri": "https://localhost:8080/"
        },
        "outputId": "e9166c55-1bd4-4734-bef1-cbc20b9132eb"
      },
      "source": [
        "print(\"x_train配列の大きさは\",x_train.shape,\"です。\")\n",
        "print(\"y_train配列の大きさは\",y_train.shape,\"です。\")\n",
        "print(\"x_test配列の大きさは\",x_test.shape,\"です。\")\n",
        "print(\"y_test配列の大きさは\",y_test.shape,\"です。\")"
      ],
      "execution_count": null,
      "outputs": [
        {
          "output_type": "stream",
          "text": [
            "x_train配列の大きさは (60000, 28, 28, 1) です。\n",
            "y_train配列の大きさは (60000,) です。\n",
            "x_test配列の大きさは (10000, 28, 28, 1) です。\n",
            "y_test配列の大きさは (10000,) です。\n"
          ],
          "name": "stdout"
        }
      ]
    },
    {
      "cell_type": "markdown",
      "metadata": {
        "id": "8OmSYo6ctRDu"
      },
      "source": [
        "x_trainとx_testの配列の次元が変わっています。\n",
        "\n",
        "これは画像を扱う際に「チャンネル」を考慮する必要があるためです。\n",
        "\n",
        "カラー画像の場合、RGBのそれぞれの色を合成してカラーを表現しています。R・G・Bそれぞれ1チャンネル、カラー画像は合計3チャンネルで画像を構成します。\n",
        "\n",
        "(60000, 28, 28, 1)の場合、6000枚の画像が28×28の大きさで、1チャンネル入っているという意味です。今回のMNIST画像はモノクロなので1チャンネルであることを明示しただけで、本質的にデータを操作したわけではありません。"
      ]
    },
    {
      "cell_type": "markdown",
      "metadata": {
        "id": "xZXaroaF2_ch"
      },
      "source": [
        "## **型変換**\n",
        "今回のモデルに入力するためにベクトル化と型変換をしておきます。"
      ]
    },
    {
      "cell_type": "code",
      "metadata": {
        "id": "E9BapdIn0JB_"
      },
      "source": [
        "X_train = x_train.astype('float32')\n",
        "X_test = x_test.astype('float32')"
      ],
      "execution_count": null,
      "outputs": []
    },
    {
      "cell_type": "markdown",
      "metadata": {
        "id": "v0fUNu2_vfm3"
      },
      "source": [
        "# **深層学習モデルの作成**\n",
        "---\n",
        "ここでは深層学習モデルを作成します。"
      ]
    },
    {
      "cell_type": "markdown",
      "metadata": {
        "id": "xLXzHZZqU9Ep"
      },
      "source": [
        "## **ライブラリのインポート**\n",
        "必要なライブラリをインポートします"
      ]
    },
    {
      "cell_type": "code",
      "metadata": {
        "id": "kV94Fbqx0tTO"
      },
      "source": [
        "from keras.models import Sequential\n",
        "from keras.layers.core import Dense, Activation\n",
        "from keras.layers import Conv2D, MaxPooling2D, Flatten\n",
        "import numpy as np\n",
        "import pandas as pd"
      ],
      "execution_count": null,
      "outputs": []
    },
    {
      "cell_type": "markdown",
      "metadata": {
        "id": "fvY82wFnVJhN"
      },
      "source": [
        "## **モデルの作成**\n",
        "\n",
        "今回、使うモデルは３層（入力層・中間層一層・出力層）の畳み込みニューラルネットワークです。\n",
        "\n",
        "モデル構成をセットしてみましょう。"
      ]
    },
    {
      "cell_type": "code",
      "metadata": {
        "id": "wlF4dngf0IEm"
      },
      "source": [
        "model = Sequential()\n",
        "\n",
        "model.add(Conv2D(2, (3, 3), input_shape=(28,28,1)))\n",
        "model.add(Activation('relu'))\n",
        "model.add(MaxPooling2D(pool_size=(2,2)))\n",
        "\n",
        "# Fully connected layer\n",
        "model.add(Flatten())\n",
        "\n",
        "model.add(Dense(10))\n",
        "model.add(Activation('softmax'))"
      ],
      "execution_count": null,
      "outputs": []
    },
    {
      "cell_type": "markdown",
      "metadata": {
        "id": "DVmPETH7VniG"
      },
      "source": [
        "モデルをコンパイルします。\n",
        "\n",
        "コンパイルする際に、損失関数と最適化手法をセットします。\n",
        "\n",
        "また今回は正解率で比較するので正解率が出せるようにしておきます。"
      ]
    },
    {
      "cell_type": "code",
      "metadata": {
        "id": "BfBOf3aj0Ulv"
      },
      "source": [
        "model.compile(loss='categorical_crossentropy', optimizer='adam', metrics=['accuracy'])"
      ],
      "execution_count": null,
      "outputs": []
    },
    {
      "cell_type": "markdown",
      "metadata": {
        "id": "Qf-wvKRno0Oo"
      },
      "source": [
        "## **（補足）損失関数と最適化**\n",
        "* 損失関数：学習結果を評価する指標で、学習時に用いる。モデルが出した答えがどれくらいズレていたかがわかるので、モデルがモデル自身をどれくらい修正するかこの損失関数から判断する。\n",
        "\n",
        "* 最適化手法：モデルの学習方法（パラメータの更新方法）。損失関数（モデル出力と正解のズレ）に基づいてどの様にモデルを学習させるかというやり方。\n",
        "\n",
        "* 評価関数：精度などのモデルの性能を表す指標。損失関数と似ているが異なる。\n",
        "\n",
        "参考：https://qiita.com/omiita/items/1735c1d048fe5f611f80"
      ]
    },
    {
      "cell_type": "markdown",
      "metadata": {
        "id": "Tvk4UKX2V7J4"
      },
      "source": [
        "# **モデルの学習と出力**\n",
        "---\n",
        "モデルを学習させます。"
      ]
    },
    {
      "cell_type": "markdown",
      "metadata": {
        "id": "YmLML-Uqeyfj"
      },
      "source": [
        "学習に当たっては以下の条件で行っています。\n",
        "*   バッチサイズ：128\n",
        "*   エポック数：3"
      ]
    },
    {
      "cell_type": "code",
      "metadata": {
        "id": "pclgT3P50Wp2",
        "colab": {
          "base_uri": "https://localhost:8080/"
        },
        "outputId": "80ed8202-c305-4934-df21-29eb81f564c7"
      },
      "source": [
        "model.fit(X_train, Y_train, batch_size=128, epochs=3,verbose=1, validation_data=(X_test, Y_test))"
      ],
      "execution_count": null,
      "outputs": [
        {
          "output_type": "stream",
          "text": [
            "Epoch 1/3\n",
            "469/469 [==============================] - 9s 4ms/step - loss: 1.1997 - accuracy: 0.6381 - val_loss: 0.3072 - val_accuracy: 0.9162\n",
            "Epoch 2/3\n",
            "469/469 [==============================] - 1s 3ms/step - loss: 0.2973 - accuracy: 0.9142 - val_loss: 0.2335 - val_accuracy: 0.9342\n",
            "Epoch 3/3\n",
            "469/469 [==============================] - 1s 3ms/step - loss: 0.2296 - accuracy: 0.9335 - val_loss: 0.1993 - val_accuracy: 0.9437\n"
          ],
          "name": "stdout"
        },
        {
          "output_type": "execute_result",
          "data": {
            "text/plain": [
              "<tensorflow.python.keras.callbacks.History at 0x7f40c0789128>"
            ]
          },
          "metadata": {
            "tags": []
          },
          "execution_count": 18
        }
      ]
    },
    {
      "cell_type": "markdown",
      "metadata": {
        "id": "aHVmLD0ZWyAf"
      },
      "source": [
        "## **学習したモデルの性能の評価**\n",
        "学習したモデルを評価してみましょう。「モデルの出力がどれくらい正解したか」という精度が％で得られます。"
      ]
    },
    {
      "cell_type": "code",
      "metadata": {
        "id": "-AJhh7EY0aEr",
        "colab": {
          "base_uri": "https://localhost:8080/"
        },
        "outputId": "79f29693-b20b-41b3-a011-cbf21b625e7d"
      },
      "source": [
        "score = model.evaluate(X_test, Y_test)\n",
        "print(\"精度は{0:.1f}パーセントです。\".format(score[1]*100))"
      ],
      "execution_count": null,
      "outputs": [
        {
          "output_type": "stream",
          "text": [
            "313/313 [==============================] - 1s 2ms/step - loss: 0.1993 - accuracy: 0.9437\n",
            "精度は94.4パーセントです。\n"
          ],
          "name": "stdout"
        }
      ]
    },
    {
      "cell_type": "markdown",
      "metadata": {
        "id": "CyDt1b2m2I_W"
      },
      "source": [
        "全結合だと７０％でしたので、非常に性能が向上していることがわかります。"
      ]
    },
    {
      "cell_type": "markdown",
      "metadata": {
        "id": "-yf-iCOrY0dx"
      },
      "source": [
        "## **間違えた画像を確認する**\n",
        "どんな数字を間違えたか確認してみましょう。"
      ]
    },
    {
      "cell_type": "code",
      "metadata": {
        "id": "e6TFZNeARN_K",
        "colab": {
          "base_uri": "https://localhost:8080/"
        },
        "outputId": "ec25aabd-396e-498f-f8a5-f028d3e5a41f"
      },
      "source": [
        "# 間違えた数字だけを取り出す\n",
        "predictions = model.predict_classes(X_test)\n",
        "predictions = list(predictions)\n",
        "actuals = list(y_test)\n",
        "df = pd.DataFrame({'Actual': actuals, 'Predictions': predictions})\n",
        "df_and = df[(df['Actual'] != df['Predictions'])]"
      ],
      "execution_count": null,
      "outputs": [
        {
          "output_type": "stream",
          "text": [
            "/usr/local/lib/python3.6/dist-packages/tensorflow/python/keras/engine/sequential.py:450: UserWarning: `model.predict_classes()` is deprecated and will be removed after 2021-01-01. Please use instead:* `np.argmax(model.predict(x), axis=-1)`,   if your model does multi-class classification   (e.g. if it uses a `softmax` last-layer activation).* `(model.predict(x) > 0.5).astype(\"int32\")`,   if your model does binary classification   (e.g. if it uses a `sigmoid` last-layer activation).\n",
            "  warnings.warn('`model.predict_classes()` is deprecated and '\n"
          ],
          "name": "stderr"
        }
      ]
    },
    {
      "cell_type": "markdown",
      "metadata": {
        "id": "RWnlMR74p9MB"
      },
      "source": [
        "間違えた数字だけを取り出してみます。\n",
        "「Actual」カラムが正解の数字、「Predictions」が学習したモデルが出力した結果です。\n",
        "一番左の数字は画像の通し番号です。"
      ]
    },
    {
      "cell_type": "code",
      "metadata": {
        "id": "DImJAVHFSD9W",
        "colab": {
          "base_uri": "https://localhost:8080/",
          "height": 204
        },
        "outputId": "1a274f8e-18b8-4b73-97d5-1cab3c7aaacd"
      },
      "source": [
        "df_and.head()"
      ],
      "execution_count": null,
      "outputs": [
        {
          "output_type": "execute_result",
          "data": {
            "text/html": [
              "<div>\n",
              "<style scoped>\n",
              "    .dataframe tbody tr th:only-of-type {\n",
              "        vertical-align: middle;\n",
              "    }\n",
              "\n",
              "    .dataframe tbody tr th {\n",
              "        vertical-align: top;\n",
              "    }\n",
              "\n",
              "    .dataframe thead th {\n",
              "        text-align: right;\n",
              "    }\n",
              "</style>\n",
              "<table border=\"1\" class=\"dataframe\">\n",
              "  <thead>\n",
              "    <tr style=\"text-align: right;\">\n",
              "      <th></th>\n",
              "      <th>Actual</th>\n",
              "      <th>Predictions</th>\n",
              "    </tr>\n",
              "  </thead>\n",
              "  <tbody>\n",
              "    <tr>\n",
              "      <th>8</th>\n",
              "      <td>5</td>\n",
              "      <td>6</td>\n",
              "    </tr>\n",
              "    <tr>\n",
              "      <th>33</th>\n",
              "      <td>4</td>\n",
              "      <td>0</td>\n",
              "    </tr>\n",
              "    <tr>\n",
              "      <th>124</th>\n",
              "      <td>7</td>\n",
              "      <td>4</td>\n",
              "    </tr>\n",
              "    <tr>\n",
              "      <th>149</th>\n",
              "      <td>2</td>\n",
              "      <td>9</td>\n",
              "    </tr>\n",
              "    <tr>\n",
              "      <th>241</th>\n",
              "      <td>9</td>\n",
              "      <td>8</td>\n",
              "    </tr>\n",
              "  </tbody>\n",
              "</table>\n",
              "</div>"
            ],
            "text/plain": [
              "     Actual  Predictions\n",
              "8         5            6\n",
              "33        4            0\n",
              "124       7            4\n",
              "149       2            9\n",
              "241       9            8"
            ]
          },
          "metadata": {
            "tags": []
          },
          "execution_count": 21
        }
      ]
    },
    {
      "cell_type": "markdown",
      "metadata": {
        "id": "lg6fxB5jZLtY"
      },
      "source": [
        "間違えた数字だけを確認してみましょう。"
      ]
    },
    {
      "cell_type": "code",
      "metadata": {
        "id": "MHx1DUGCZSVt",
        "colab": {
          "base_uri": "https://localhost:8080/",
          "height": 500
        },
        "outputId": "41a1e482-7dec-473d-b888-bc643f43d644"
      },
      "source": [
        "import matplotlib.pyplot as plt\n",
        "img_num=320\n",
        "plt.imshow(x_test[img_num,:,:,0]) #画像を表示する\n",
        "print(\"表示している画像は\",y_test[img_num],\"で、\",df_and.loc[img_num, 'Predictions'],\"と間違えました。\")#表示している画像の数字を確認する。"
      ],
      "execution_count": null,
      "outputs": [
        {
          "output_type": "stream",
          "text": [
            "表示している画像は 9 で、 7 と間違えました。\n"
          ],
          "name": "stdout"
        },
        {
          "output_type": "display_data",
          "data": {
            "image/png": "[encoded data removed]",
            "text/plain": [
              "<Figure size 576x576 with 1 Axes>"
            ]
          },
          "metadata": {
            "tags": [],
            "needs_background": "light"
          }
        }
      ]
    },
    {
      "cell_type": "markdown",
      "metadata": {
        "id": "En_X7jbpo-lM"
      },
      "source": [
        "### **[Work]間違えた数字を確認する**\n",
        "間違えた数字を自分で確認してみましょう。"
      ]
    },
    {
      "cell_type": "markdown",
      "metadata": {
        "id": "qs1VrimCpP2s"
      },
      "source": [
        "まず間違えた数字を10個表示します。"
      ]
    },
    {
      "cell_type": "code",
      "metadata": {
        "id": "bU_jmUoOpJ4r",
        "colab": {
          "base_uri": "https://localhost:8080/",
          "height": 359
        },
        "outputId": "23e4ca1b-2a1c-4fb9-819c-9ca6a0422ce4"
      },
      "source": [
        "df_and.head(10)"
      ],
      "execution_count": null,
      "outputs": [
        {
          "output_type": "execute_result",
          "data": {
            "text/html": [
              "<div>\n",
              "<style scoped>\n",
              "    .dataframe tbody tr th:only-of-type {\n",
              "        vertical-align: middle;\n",
              "    }\n",
              "\n",
              "    .dataframe tbody tr th {\n",
              "        vertical-align: top;\n",
              "    }\n",
              "\n",
              "    .dataframe thead th {\n",
              "        text-align: right;\n",
              "    }\n",
              "</style>\n",
              "<table border=\"1\" class=\"dataframe\">\n",
              "  <thead>\n",
              "    <tr style=\"text-align: right;\">\n",
              "      <th></th>\n",
              "      <th>Actual</th>\n",
              "      <th>Predictions</th>\n",
              "    </tr>\n",
              "  </thead>\n",
              "  <tbody>\n",
              "    <tr>\n",
              "      <th>8</th>\n",
              "      <td>5</td>\n",
              "      <td>6</td>\n",
              "    </tr>\n",
              "    <tr>\n",
              "      <th>33</th>\n",
              "      <td>4</td>\n",
              "      <td>0</td>\n",
              "    </tr>\n",
              "    <tr>\n",
              "      <th>124</th>\n",
              "      <td>7</td>\n",
              "      <td>4</td>\n",
              "    </tr>\n",
              "    <tr>\n",
              "      <th>149</th>\n",
              "      <td>2</td>\n",
              "      <td>9</td>\n",
              "    </tr>\n",
              "    <tr>\n",
              "      <th>241</th>\n",
              "      <td>9</td>\n",
              "      <td>8</td>\n",
              "    </tr>\n",
              "    <tr>\n",
              "      <th>247</th>\n",
              "      <td>4</td>\n",
              "      <td>2</td>\n",
              "    </tr>\n",
              "    <tr>\n",
              "      <th>259</th>\n",
              "      <td>6</td>\n",
              "      <td>0</td>\n",
              "    </tr>\n",
              "    <tr>\n",
              "      <th>264</th>\n",
              "      <td>9</td>\n",
              "      <td>1</td>\n",
              "    </tr>\n",
              "    <tr>\n",
              "      <th>290</th>\n",
              "      <td>8</td>\n",
              "      <td>5</td>\n",
              "    </tr>\n",
              "    <tr>\n",
              "      <th>307</th>\n",
              "      <td>7</td>\n",
              "      <td>9</td>\n",
              "    </tr>\n",
              "  </tbody>\n",
              "</table>\n",
              "</div>"
            ],
            "text/plain": [
              "     Actual  Predictions\n",
              "8         5            6\n",
              "33        4            0\n",
              "124       7            4\n",
              "149       2            9\n",
              "241       9            8\n",
              "247       4            2\n",
              "259       6            0\n",
              "264       9            1\n",
              "290       8            5\n",
              "307       7            9"
            ]
          },
          "metadata": {
            "tags": []
          },
          "execution_count": 23
        }
      ]
    },
    {
      "cell_type": "markdown",
      "metadata": {
        "id": "HfUnyOazpWAj"
      },
      "source": [
        "表示した結果の左のカラムの数字を\n",
        "```img_num = 62```という形で入力して、間違えた数字を確認してみてください。"
      ]
    },
    {
      "cell_type": "code",
      "metadata": {
        "id": "QJQGzC10pomn",
        "colab": {
          "base_uri": "https://localhost:8080/",
          "height": 500
        },
        "outputId": "5e3a51fc-0c95-4d35-9fce-5da1409f0f32"
      },
      "source": [
        "### img_numの数字を自分の好きな数字を設定して確認しましょう\n",
        "\n",
        "img_num = 340 #任意の画像番号\n",
        "\n",
        "###\n",
        "plt.imshow(x_test[img_num,:,:,0]) #画像を表示する\n",
        "print(\"表示している画像は\",y_test[img_num],\"で、\",df_and.loc[img_num, 'Predictions'],\"と間違えました。\")\n",
        "#表示している画像の数字を確認する。"
      ],
      "execution_count": null,
      "outputs": [
        {
          "output_type": "stream",
          "text": [
            "表示している画像は 5 で、 3 と間違えました。\n"
          ],
          "name": "stdout"
        },
        {
          "output_type": "display_data",
          "data": {
            "image/png": "[encoded data removed]",
            "text/plain": [
              "<Figure size 576x576 with 1 Axes>"
            ]
          },
          "metadata": {
            "tags": [],
            "needs_background": "light"
          }
        }
      ]
    },
    {
      "cell_type": "markdown",
      "metadata": {
        "id": "I7iQIsVrcEC1"
      },
      "source": [
        "# **[Work]精度向上にチャレンジ**\n",
        "---\n",
        "今日作ったモデルの精度を向上させてみましょう"
      ]
    },
    {
      "cell_type": "markdown",
      "metadata": {
        "id": "RGVNEpKscYKB"
      },
      "source": [
        "## **モデル構成を変更して性能を向上させる**\n",
        "\n",
        "ニューラルネットワークの構成を変更してみます。\n",
        "\n",
        "モデルのフィルタ数を増やすとモデルの表現力が向上しますので、ノード数を増やしてみましょう。\n",
        "\n",
        "以下のコードの```filters = 2```の2を好きな数字に変更してみてください。"
      ]
    },
    {
      "cell_type": "code",
      "metadata": {
        "id": "4h8TaHYKcYKE"
      },
      "source": [
        "filters = 2\n",
        "\n",
        "model = Sequential()\n",
        "\n",
        "model.add(Conv2D(filters, (3, 3), input_shape=(28,28,1)))\n",
        "model.add(Activation('relu'))\n",
        "model.add(MaxPooling2D(pool_size=(2,2)))\n",
        "\n",
        "# Fully connected layer\n",
        "model.add(Flatten())\n",
        "\n",
        "model.add(Dense(10))\n",
        "model.add(Activation('softmax'))"
      ],
      "execution_count": null,
      "outputs": []
    },
    {
      "cell_type": "markdown",
      "metadata": {
        "id": "3z1HaDMqdTtR"
      },
      "source": [
        "## **モデルのコンパイル**\n",
        "ここで指定しているパラメータは、他のパラメータに対して性能向上に寄与しない可能性が比較的高いので、ここでは変更しません。\n",
        "\n",
        "（ただしOptimizerは変更すると性能が向上する可能性はあります。）"
      ]
    },
    {
      "cell_type": "code",
      "metadata": {
        "id": "2NGTwMF8cYKL"
      },
      "source": [
        "model.compile(loss='categorical_crossentropy', optimizer='adam', metrics=['accuracy'])"
      ],
      "execution_count": null,
      "outputs": []
    },
    {
      "cell_type": "markdown",
      "metadata": {
        "id": "k2lGR-zxcYKP"
      },
      "source": [
        "## **モデルの学習と出力を工夫する**\n",
        "モデルを学習させる際のパラメータを変更してみましょう。\n",
        "\n",
        "前回の学習では以下の条件で学習させていましたが、この数字を変更してみます。\n",
        "*   バッチサイズ：128\n",
        "*   エポック数：3\n",
        "\n",
        "```\n",
        "batch_num = 128\n",
        "epoch_num = 3\n",
        "```\n",
        "の128と3の数字をそれぞれ大きな値に変更してみてください。\n"
      ]
    },
    {
      "cell_type": "code",
      "metadata": {
        "id": "6CoQj566dkwS"
      },
      "source": [
        "batch_num = 128\n",
        "epoch_num = 3"
      ],
      "execution_count": null,
      "outputs": []
    },
    {
      "cell_type": "code",
      "metadata": {
        "id": "ZY1AoEAwcYKQ",
        "colab": {
          "base_uri": "https://localhost:8080/"
        },
        "outputId": "e02b74c4-9ac6-4ee5-c128-c5b4fdccea16"
      },
      "source": [
        "model.fit(X_train, Y_train, batch_size=batch_num, epochs=epoch_num, verbose=1, validation_data=(X_test, Y_test))"
      ],
      "execution_count": null,
      "outputs": [
        {
          "output_type": "stream",
          "text": [
            "Epoch 1/3\n",
            "469/469 [==============================] - 2s 3ms/step - loss: 1.2228 - accuracy: 0.6426 - val_loss: 0.3340 - val_accuracy: 0.9052\n",
            "Epoch 2/3\n",
            "469/469 [==============================] - 2s 3ms/step - loss: 0.3304 - accuracy: 0.9050 - val_loss: 0.2921 - val_accuracy: 0.9160\n",
            "Epoch 3/3\n",
            "469/469 [==============================] - 1s 3ms/step - loss: 0.2909 - accuracy: 0.9161 - val_loss: 0.2718 - val_accuracy: 0.9206\n"
          ],
          "name": "stdout"
        },
        {
          "output_type": "execute_result",
          "data": {
            "text/plain": [
              "<tensorflow.python.keras.callbacks.History at 0x7f407c041978>"
            ]
          },
          "metadata": {
            "tags": []
          },
          "execution_count": 28
        }
      ]
    },
    {
      "cell_type": "markdown",
      "metadata": {
        "id": "Nx03osGLcYKT"
      },
      "source": [
        "## **学習したモデルの性能の評価する**\n",
        "学習したモデルを評価してみましょう。"
      ]
    },
    {
      "cell_type": "code",
      "metadata": {
        "id": "YWPWaXnlcYKT",
        "colab": {
          "base_uri": "https://localhost:8080/"
        },
        "outputId": "23c39c2b-c2bc-4bf3-a05e-745519da71e0"
      },
      "source": [
        "score = model.evaluate(X_test, Y_test)\n",
        "print(\"精度は{0:.1f}パーセントです。\".format(score[1]*100))"
      ],
      "execution_count": null,
      "outputs": [
        {
          "output_type": "stream",
          "text": [
            "313/313 [==============================] - 1s 2ms/step - loss: 0.2718 - accuracy: 0.9206\n",
            "精度は92.1パーセントです。\n"
          ],
          "name": "stdout"
        }
      ]
    },
    {
      "cell_type": "markdown",
      "metadata": {
        "id": "oPzpdr5ycYKW"
      },
      "source": [
        "## **間違えた画像を確認する**\n",
        "どんな数字を間違えたか確認してみましょう。"
      ]
    },
    {
      "cell_type": "code",
      "metadata": {
        "id": "x3SRRiHacYKW",
        "colab": {
          "base_uri": "https://localhost:8080/"
        },
        "outputId": "cb4ab8af-3ccc-4055-97dc-f405e7473467"
      },
      "source": [
        "# 間違えた数字だけを取り出す\n",
        "predictions = model.predict_classes(X_test)\n",
        "predictions = list(predictions)\n",
        "actuals = list(y_test)\n",
        "df = pd.DataFrame({'Actual': actuals, 'Predictions': predictions})\n",
        "df_and = df[(df['Actual'] != df['Predictions'])]"
      ],
      "execution_count": null,
      "outputs": [
        {
          "output_type": "stream",
          "text": [
            "/usr/local/lib/python3.6/dist-packages/tensorflow/python/keras/engine/sequential.py:450: UserWarning: `model.predict_classes()` is deprecated and will be removed after 2021-01-01. Please use instead:* `np.argmax(model.predict(x), axis=-1)`,   if your model does multi-class classification   (e.g. if it uses a `softmax` last-layer activation).* `(model.predict(x) > 0.5).astype(\"int32\")`,   if your model does binary classification   (e.g. if it uses a `sigmoid` last-layer activation).\n",
            "  warnings.warn('`model.predict_classes()` is deprecated and '\n"
          ],
          "name": "stderr"
        }
      ]
    },
    {
      "cell_type": "code",
      "metadata": {
        "id": "fSfmhvy_cYKY",
        "colab": {
          "base_uri": "https://localhost:8080/",
          "height": 204
        },
        "outputId": "15799219-a414-4e63-c8c5-bf5ad00a91a0"
      },
      "source": [
        "df_and.head()"
      ],
      "execution_count": null,
      "outputs": [
        {
          "output_type": "execute_result",
          "data": {
            "text/html": [
              "<div>\n",
              "<style scoped>\n",
              "    .dataframe tbody tr th:only-of-type {\n",
              "        vertical-align: middle;\n",
              "    }\n",
              "\n",
              "    .dataframe tbody tr th {\n",
              "        vertical-align: top;\n",
              "    }\n",
              "\n",
              "    .dataframe thead th {\n",
              "        text-align: right;\n",
              "    }\n",
              "</style>\n",
              "<table border=\"1\" class=\"dataframe\">\n",
              "  <thead>\n",
              "    <tr style=\"text-align: right;\">\n",
              "      <th></th>\n",
              "      <th>Actual</th>\n",
              "      <th>Predictions</th>\n",
              "    </tr>\n",
              "  </thead>\n",
              "  <tbody>\n",
              "    <tr>\n",
              "      <th>8</th>\n",
              "      <td>5</td>\n",
              "      <td>6</td>\n",
              "    </tr>\n",
              "    <tr>\n",
              "      <th>33</th>\n",
              "      <td>4</td>\n",
              "      <td>6</td>\n",
              "    </tr>\n",
              "    <tr>\n",
              "      <th>62</th>\n",
              "      <td>9</td>\n",
              "      <td>4</td>\n",
              "    </tr>\n",
              "    <tr>\n",
              "      <th>63</th>\n",
              "      <td>3</td>\n",
              "      <td>2</td>\n",
              "    </tr>\n",
              "    <tr>\n",
              "      <th>92</th>\n",
              "      <td>9</td>\n",
              "      <td>4</td>\n",
              "    </tr>\n",
              "  </tbody>\n",
              "</table>\n",
              "</div>"
            ],
            "text/plain": [
              "    Actual  Predictions\n",
              "8        5            6\n",
              "33       4            6\n",
              "62       9            4\n",
              "63       3            2\n",
              "92       9            4"
            ]
          },
          "metadata": {
            "tags": []
          },
          "execution_count": 31
        }
      ]
    },
    {
      "cell_type": "markdown",
      "metadata": {
        "id": "1wJ4s27hcYKa"
      },
      "source": [
        "間違えた数字だけを確認してみましょう。"
      ]
    },
    {
      "cell_type": "code",
      "metadata": {
        "id": "0uui181ecYKc",
        "colab": {
          "base_uri": "https://localhost:8080/",
          "height": 500
        },
        "outputId": "28a16fc9-f7e7-45be-cc31-082f9734b13d"
      },
      "source": [
        "##変更する\n",
        "\n",
        "img_num=8\n",
        "\n",
        "###\n",
        "\n",
        "plt.imshow(x_test[img_num,:,:,0]) #画像を表示する\n",
        "print(\"表示している画像は\",y_test[img_num],\"で、\",df_and.loc[img_num, 'Predictions'],\"と間違えました。\")#表示している画像の数字を確認する。"
      ],
      "execution_count": null,
      "outputs": [
        {
          "output_type": "stream",
          "text": [
            "表示している画像は 5 で、 6 と間違えました。\n"
          ],
          "name": "stdout"
        },
        {
          "output_type": "display_data",
          "data": {
            "image/png": "[encoded data removed]",
            "text/plain": [
              "<Figure size 576x576 with 1 Axes>"
            ]
          },
          "metadata": {
            "tags": [],
            "needs_background": "light"
          }
        }
      ]
    },
    {
      "cell_type": "markdown",
      "metadata": {
        "id": "bxGm6eH-sbNq"
      },
      "source": [
        "# **[ミニコンペ]さらなる精度向上**\n",
        "\n",
        "さらなる精度向上を試してみましょう。\n",
        "\n",
        "これまで実施した\n",
        "*   ノード数の変更\n",
        "*   エポック数\n",
        "*   バッチサイズの変更\n",
        "\n",
        "以外にも精度向上を行うことが出来ます。\n",
        "\n",
        "* 畳み込み層を増やす\n",
        "* 全結合層を増やす\n",
        "\n",
        "等が考えられます。\n",
        "\n",
        "自分で色々変更して100％を目指して精度向上してみましょう。\n"
      ]
    },
    {
      "cell_type": "code",
      "metadata": {
        "id": "MEIXUvjrsq9A"
      },
      "source": [
        "filters = 2\n",
        "\n",
        "model = Sequential()\n",
        "\n",
        "model.add(Conv2D(filters, (3, 3), input_shape=(28,28,1)))\n",
        "model.add(Activation('relu'))\n",
        "model.add(MaxPooling2D(pool_size=(2,2)))\n",
        "\n",
        "# Fully connected layer\n",
        "model.add(Flatten())\n",
        "\n",
        "model.add(Dense(10))\n",
        "model.add(Activation('softmax'))"
      ],
      "execution_count": null,
      "outputs": []
    },
    {
      "cell_type": "code",
      "metadata": {
        "id": "uUeF4ktWsyng"
      },
      "source": [
        "model.compile(loss='categorical_crossentropy', optimizer='adam', metrics=['accuracy'])"
      ],
      "execution_count": null,
      "outputs": []
    },
    {
      "cell_type": "code",
      "metadata": {
        "id": "HnACnb0-s99Z",
        "colab": {
          "base_uri": "https://localhost:8080/"
        },
        "outputId": "479f53e1-aba1-4a6c-af1f-1ee14446bf89"
      },
      "source": [
        "model.fit(X_train, Y_train, batch_size=128, epochs=3,verbose=1, validation_data=(X_test, Y_test))"
      ],
      "execution_count": null,
      "outputs": [
        {
          "output_type": "stream",
          "text": [
            "Epoch 1/3\n",
            "469/469 [==============================] - 2s 3ms/step - loss: 1.3605 - accuracy: 0.6063 - val_loss: 0.3083 - val_accuracy: 0.9160\n",
            "Epoch 2/3\n",
            "469/469 [==============================] - 1s 3ms/step - loss: 0.3013 - accuracy: 0.9135 - val_loss: 0.2387 - val_accuracy: 0.9310\n",
            "Epoch 3/3\n",
            "469/469 [==============================] - 1s 3ms/step - loss: 0.2396 - accuracy: 0.9306 - val_loss: 0.2132 - val_accuracy: 0.9388\n"
          ],
          "name": "stdout"
        },
        {
          "output_type": "execute_result",
          "data": {
            "text/plain": [
              "<tensorflow.python.keras.callbacks.History at 0x7f40d5afbcf8>"
            ]
          },
          "metadata": {
            "tags": []
          },
          "execution_count": 35
        }
      ]
    },
    {
      "cell_type": "code",
      "metadata": {
        "id": "YAGfGftss-wW",
        "colab": {
          "base_uri": "https://localhost:8080/"
        },
        "outputId": "99afb295-ddc1-401e-9c29-b5392447aec3"
      },
      "source": [
        "score = model.evaluate(X_test, Y_test)\n",
        "print(\"精度は{0:.1f}パーセントです。\".format(score[1]*100))"
      ],
      "execution_count": null,
      "outputs": [
        {
          "output_type": "stream",
          "text": [
            "313/313 [==============================] - 1s 2ms/step - loss: 0.2132 - accuracy: 0.9388\n",
            "精度は93.9パーセントです。\n"
          ],
          "name": "stdout"
        }
      ]
    },
    {
      "cell_type": "code",
      "metadata": {
        "id": "zozeI4jbtCv7",
        "colab": {
          "base_uri": "https://localhost:8080/"
        },
        "outputId": "b815c612-5256-4675-d7c2-68d14b94c4cf"
      },
      "source": [
        "# 間違えた数字だけを取り出す\n",
        "predictions = model.predict_classes(X_test)\n",
        "predictions = list(predictions)\n",
        "actuals = list(y_test)\n",
        "df = pd.DataFrame({'Actual': actuals, 'Predictions': predictions})\n",
        "df_and = df[(df['Actual'] != df['Predictions'])]"
      ],
      "execution_count": null,
      "outputs": [
        {
          "output_type": "stream",
          "text": [
            "/usr/local/lib/python3.6/dist-packages/tensorflow/python/keras/engine/sequential.py:450: UserWarning: `model.predict_classes()` is deprecated and will be removed after 2021-01-01. Please use instead:* `np.argmax(model.predict(x), axis=-1)`,   if your model does multi-class classification   (e.g. if it uses a `softmax` last-layer activation).* `(model.predict(x) > 0.5).astype(\"int32\")`,   if your model does binary classification   (e.g. if it uses a `sigmoid` last-layer activation).\n",
            "  warnings.warn('`model.predict_classes()` is deprecated and '\n"
          ],
          "name": "stderr"
        }
      ]
    },
    {
      "cell_type": "code",
      "metadata": {
        "id": "v_awKiMWtImD",
        "colab": {
          "base_uri": "https://localhost:8080/",
          "height": 359
        },
        "outputId": "0127172f-1c15-40c1-f965-5e8de52e36e9"
      },
      "source": [
        "df_and.head(10)"
      ],
      "execution_count": null,
      "outputs": [
        {
          "output_type": "execute_result",
          "data": {
            "text/html": [
              "<div>\n",
              "<style scoped>\n",
              "    .dataframe tbody tr th:only-of-type {\n",
              "        vertical-align: middle;\n",
              "    }\n",
              "\n",
              "    .dataframe tbody tr th {\n",
              "        vertical-align: top;\n",
              "    }\n",
              "\n",
              "    .dataframe thead th {\n",
              "        text-align: right;\n",
              "    }\n",
              "</style>\n",
              "<table border=\"1\" class=\"dataframe\">\n",
              "  <thead>\n",
              "    <tr style=\"text-align: right;\">\n",
              "      <th></th>\n",
              "      <th>Actual</th>\n",
              "      <th>Predictions</th>\n",
              "    </tr>\n",
              "  </thead>\n",
              "  <tbody>\n",
              "    <tr>\n",
              "      <th>8</th>\n",
              "      <td>5</td>\n",
              "      <td>6</td>\n",
              "    </tr>\n",
              "    <tr>\n",
              "      <th>59</th>\n",
              "      <td>5</td>\n",
              "      <td>7</td>\n",
              "    </tr>\n",
              "    <tr>\n",
              "      <th>92</th>\n",
              "      <td>9</td>\n",
              "      <td>4</td>\n",
              "    </tr>\n",
              "    <tr>\n",
              "      <th>149</th>\n",
              "      <td>2</td>\n",
              "      <td>9</td>\n",
              "    </tr>\n",
              "    <tr>\n",
              "      <th>195</th>\n",
              "      <td>3</td>\n",
              "      <td>5</td>\n",
              "    </tr>\n",
              "    <tr>\n",
              "      <th>241</th>\n",
              "      <td>9</td>\n",
              "      <td>8</td>\n",
              "    </tr>\n",
              "    <tr>\n",
              "      <th>245</th>\n",
              "      <td>3</td>\n",
              "      <td>6</td>\n",
              "    </tr>\n",
              "    <tr>\n",
              "      <th>247</th>\n",
              "      <td>4</td>\n",
              "      <td>2</td>\n",
              "    </tr>\n",
              "    <tr>\n",
              "      <th>259</th>\n",
              "      <td>6</td>\n",
              "      <td>0</td>\n",
              "    </tr>\n",
              "    <tr>\n",
              "      <th>264</th>\n",
              "      <td>9</td>\n",
              "      <td>4</td>\n",
              "    </tr>\n",
              "  </tbody>\n",
              "</table>\n",
              "</div>"
            ],
            "text/plain": [
              "     Actual  Predictions\n",
              "8         5            6\n",
              "59        5            7\n",
              "92        9            4\n",
              "149       2            9\n",
              "195       3            5\n",
              "241       9            8\n",
              "245       3            6\n",
              "247       4            2\n",
              "259       6            0\n",
              "264       9            4"
            ]
          },
          "metadata": {
            "tags": []
          },
          "execution_count": 38
        }
      ]
    },
    {
      "cell_type": "code",
      "metadata": {
        "id": "awmoUt0rtMCp",
        "colab": {
          "base_uri": "https://localhost:8080/",
          "height": 1000
        },
        "outputId": "1435a543-9af1-4e64-e09e-f13e52c48468"
      },
      "source": [
        "### img_numの数字を自分の好きな数字を設定して確認しましょう\n",
        "\n",
        "img_num = 63 #任意の画像番号\n",
        "\n",
        "###\n",
        "plt.imshow(x_test[img_num,:,:,0]) #画像を表示する\n",
        "print(\"表示している画像は\",y_test[img_num],\"で、\",df_and.loc[img_num, 'Predictions'],\"と間違えました。\")\n",
        "#表示している画像の数字を確認する。"
      ],
      "execution_count": null,
      "outputs": [
        {
          "output_type": "error",
          "ename": "KeyError",
          "evalue": "ignored",
          "traceback": [
            "\u001b[0;31m---------------------------------------------------------------------------\u001b[0m",
            "\u001b[0;31mKeyError\u001b[0m                                  Traceback (most recent call last)",
            "\u001b[0;32m/usr/local/lib/python3.6/dist-packages/pandas/core/indexes/base.py\u001b[0m in \u001b[0;36mget_loc\u001b[0;34m(self, key, method, tolerance)\u001b[0m\n\u001b[1;32m   2897\u001b[0m             \u001b[0;32mtry\u001b[0m\u001b[0;34m:\u001b[0m\u001b[0;34m\u001b[0m\u001b[0;34m\u001b[0m\u001b[0m\n\u001b[0;32m-> 2898\u001b[0;31m                 \u001b[0;32mreturn\u001b[0m \u001b[0mself\u001b[0m\u001b[0;34m.\u001b[0m\u001b[0m_engine\u001b[0m\u001b[0;34m.\u001b[0m\u001b[0mget_loc\u001b[0m\u001b[0;34m(\u001b[0m\u001b[0mcasted_key\u001b[0m\u001b[0;34m)\u001b[0m\u001b[0;34m\u001b[0m\u001b[0;34m\u001b[0m\u001b[0m\n\u001b[0m\u001b[1;32m   2899\u001b[0m             \u001b[0;32mexcept\u001b[0m \u001b[0mKeyError\u001b[0m \u001b[0;32mas\u001b[0m \u001b[0merr\u001b[0m\u001b[0;34m:\u001b[0m\u001b[0;34m\u001b[0m\u001b[0;34m\u001b[0m\u001b[0m\n",
            "\u001b[0;32mpandas/_libs/index.pyx\u001b[0m in \u001b[0;36mpandas._libs.index.IndexEngine.get_loc\u001b[0;34m()\u001b[0m\n",
            "\u001b[0;32mpandas/_libs/index.pyx\u001b[0m in \u001b[0;36mpandas._libs.index.IndexEngine.get_loc\u001b[0;34m()\u001b[0m\n",
            "\u001b[0;32mpandas/_libs/hashtable_class_helper.pxi\u001b[0m in \u001b[0;36mpandas._libs.hashtable.Int64HashTable.get_item\u001b[0;34m()\u001b[0m\n",
            "\u001b[0;32mpandas/_libs/hashtable_class_helper.pxi\u001b[0m in \u001b[0;36mpandas._libs.hashtable.Int64HashTable.get_item\u001b[0;34m()\u001b[0m\n",
            "\u001b[0;31mKeyError\u001b[0m: 63",
            "\nThe above exception was the direct cause of the following exception:\n",
            "\u001b[0;31mKeyError\u001b[0m                                  Traceback (most recent call last)",
            "\u001b[0;32m<ipython-input-39-a3c91daf30ee>\u001b[0m in \u001b[0;36m<module>\u001b[0;34m()\u001b[0m\n\u001b[1;32m      5\u001b[0m \u001b[0;31m###\u001b[0m\u001b[0;34m\u001b[0m\u001b[0;34m\u001b[0m\u001b[0;34m\u001b[0m\u001b[0m\n\u001b[1;32m      6\u001b[0m \u001b[0mplt\u001b[0m\u001b[0;34m.\u001b[0m\u001b[0mimshow\u001b[0m\u001b[0;34m(\u001b[0m\u001b[0mx_test\u001b[0m\u001b[0;34m[\u001b[0m\u001b[0mimg_num\u001b[0m\u001b[0;34m,\u001b[0m\u001b[0;34m:\u001b[0m\u001b[0;34m,\u001b[0m\u001b[0;34m:\u001b[0m\u001b[0;34m,\u001b[0m\u001b[0;36m0\u001b[0m\u001b[0;34m]\u001b[0m\u001b[0;34m)\u001b[0m \u001b[0;31m#画像を表示する\u001b[0m\u001b[0;34m\u001b[0m\u001b[0;34m\u001b[0m\u001b[0m\n\u001b[0;32m----> 7\u001b[0;31m \u001b[0mprint\u001b[0m\u001b[0;34m(\u001b[0m\u001b[0;34m\"表示している画像は\"\u001b[0m\u001b[0;34m,\u001b[0m\u001b[0my_test\u001b[0m\u001b[0;34m[\u001b[0m\u001b[0mimg_num\u001b[0m\u001b[0;34m]\u001b[0m\u001b[0;34m,\u001b[0m\u001b[0;34m\"で、\"\u001b[0m\u001b[0;34m,\u001b[0m\u001b[0mdf_and\u001b[0m\u001b[0;34m.\u001b[0m\u001b[0mloc\u001b[0m\u001b[0;34m[\u001b[0m\u001b[0mimg_num\u001b[0m\u001b[0;34m,\u001b[0m \u001b[0;34m'Predictions'\u001b[0m\u001b[0;34m]\u001b[0m\u001b[0;34m,\u001b[0m\u001b[0;34m\"と間違えました。\"\u001b[0m\u001b[0;34m)\u001b[0m\u001b[0;34m\u001b[0m\u001b[0;34m\u001b[0m\u001b[0m\n\u001b[0m\u001b[1;32m      8\u001b[0m \u001b[0;31m#表示している画像の数字を確認する。\u001b[0m\u001b[0;34m\u001b[0m\u001b[0;34m\u001b[0m\u001b[0;34m\u001b[0m\u001b[0m\n",
            "\u001b[0;32m/usr/local/lib/python3.6/dist-packages/pandas/core/indexing.py\u001b[0m in \u001b[0;36m__getitem__\u001b[0;34m(self, key)\u001b[0m\n\u001b[1;32m    871\u001b[0m                     \u001b[0;31m# AttributeError for IntervalTree get_value\u001b[0m\u001b[0;34m\u001b[0m\u001b[0;34m\u001b[0m\u001b[0;34m\u001b[0m\u001b[0m\n\u001b[1;32m    872\u001b[0m                     \u001b[0;32mpass\u001b[0m\u001b[0;34m\u001b[0m\u001b[0;34m\u001b[0m\u001b[0m\n\u001b[0;32m--> 873\u001b[0;31m             \u001b[0;32mreturn\u001b[0m \u001b[0mself\u001b[0m\u001b[0;34m.\u001b[0m\u001b[0m_getitem_tuple\u001b[0m\u001b[0;34m(\u001b[0m\u001b[0mkey\u001b[0m\u001b[0;34m)\u001b[0m\u001b[0;34m\u001b[0m\u001b[0;34m\u001b[0m\u001b[0m\n\u001b[0m\u001b[1;32m    874\u001b[0m         \u001b[0;32melse\u001b[0m\u001b[0;34m:\u001b[0m\u001b[0;34m\u001b[0m\u001b[0;34m\u001b[0m\u001b[0m\n\u001b[1;32m    875\u001b[0m             \u001b[0;31m# we by definition only have the 0th axis\u001b[0m\u001b[0;34m\u001b[0m\u001b[0;34m\u001b[0m\u001b[0;34m\u001b[0m\u001b[0m\n",
            "\u001b[0;32m/usr/local/lib/python3.6/dist-packages/pandas/core/indexing.py\u001b[0m in \u001b[0;36m_getitem_tuple\u001b[0;34m(self, tup)\u001b[0m\n\u001b[1;32m   1042\u001b[0m     \u001b[0;32mdef\u001b[0m \u001b[0m_getitem_tuple\u001b[0m\u001b[0;34m(\u001b[0m\u001b[0mself\u001b[0m\u001b[0;34m,\u001b[0m \u001b[0mtup\u001b[0m\u001b[0;34m:\u001b[0m \u001b[0mTuple\u001b[0m\u001b[0;34m)\u001b[0m\u001b[0;34m:\u001b[0m\u001b[0;34m\u001b[0m\u001b[0;34m\u001b[0m\u001b[0m\n\u001b[1;32m   1043\u001b[0m         \u001b[0;32mtry\u001b[0m\u001b[0;34m:\u001b[0m\u001b[0;34m\u001b[0m\u001b[0;34m\u001b[0m\u001b[0m\n\u001b[0;32m-> 1044\u001b[0;31m             \u001b[0;32mreturn\u001b[0m \u001b[0mself\u001b[0m\u001b[0;34m.\u001b[0m\u001b[0m_getitem_lowerdim\u001b[0m\u001b[0;34m(\u001b[0m\u001b[0mtup\u001b[0m\u001b[0;34m)\u001b[0m\u001b[0;34m\u001b[0m\u001b[0;34m\u001b[0m\u001b[0m\n\u001b[0m\u001b[1;32m   1045\u001b[0m         \u001b[0;32mexcept\u001b[0m \u001b[0mIndexingError\u001b[0m\u001b[0;34m:\u001b[0m\u001b[0;34m\u001b[0m\u001b[0;34m\u001b[0m\u001b[0m\n\u001b[1;32m   1046\u001b[0m             \u001b[0;32mpass\u001b[0m\u001b[0;34m\u001b[0m\u001b[0;34m\u001b[0m\u001b[0m\n",
            "\u001b[0;32m/usr/local/lib/python3.6/dist-packages/pandas/core/indexing.py\u001b[0m in \u001b[0;36m_getitem_lowerdim\u001b[0;34m(self, tup)\u001b[0m\n\u001b[1;32m    784\u001b[0m                 \u001b[0;31m# We don't need to check for tuples here because those are\u001b[0m\u001b[0;34m\u001b[0m\u001b[0;34m\u001b[0m\u001b[0;34m\u001b[0m\u001b[0m\n\u001b[1;32m    785\u001b[0m                 \u001b[0;31m#  caught by the _is_nested_tuple_indexer check above.\u001b[0m\u001b[0;34m\u001b[0m\u001b[0;34m\u001b[0m\u001b[0;34m\u001b[0m\u001b[0m\n\u001b[0;32m--> 786\u001b[0;31m                 \u001b[0msection\u001b[0m \u001b[0;34m=\u001b[0m \u001b[0mself\u001b[0m\u001b[0;34m.\u001b[0m\u001b[0m_getitem_axis\u001b[0m\u001b[0;34m(\u001b[0m\u001b[0mkey\u001b[0m\u001b[0;34m,\u001b[0m \u001b[0maxis\u001b[0m\u001b[0;34m=\u001b[0m\u001b[0mi\u001b[0m\u001b[0;34m)\u001b[0m\u001b[0;34m\u001b[0m\u001b[0;34m\u001b[0m\u001b[0m\n\u001b[0m\u001b[1;32m    787\u001b[0m \u001b[0;34m\u001b[0m\u001b[0m\n\u001b[1;32m    788\u001b[0m                 \u001b[0;31m# We should never have a scalar section here, because\u001b[0m\u001b[0;34m\u001b[0m\u001b[0;34m\u001b[0m\u001b[0;34m\u001b[0m\u001b[0m\n",
            "\u001b[0;32m/usr/local/lib/python3.6/dist-packages/pandas/core/indexing.py\u001b[0m in \u001b[0;36m_getitem_axis\u001b[0;34m(self, key, axis)\u001b[0m\n\u001b[1;32m   1108\u001b[0m         \u001b[0;31m# fall thru to straight lookup\u001b[0m\u001b[0;34m\u001b[0m\u001b[0;34m\u001b[0m\u001b[0;34m\u001b[0m\u001b[0m\n\u001b[1;32m   1109\u001b[0m         \u001b[0mself\u001b[0m\u001b[0;34m.\u001b[0m\u001b[0m_validate_key\u001b[0m\u001b[0;34m(\u001b[0m\u001b[0mkey\u001b[0m\u001b[0;34m,\u001b[0m \u001b[0maxis\u001b[0m\u001b[0;34m)\u001b[0m\u001b[0;34m\u001b[0m\u001b[0;34m\u001b[0m\u001b[0m\n\u001b[0;32m-> 1110\u001b[0;31m         \u001b[0;32mreturn\u001b[0m \u001b[0mself\u001b[0m\u001b[0;34m.\u001b[0m\u001b[0m_get_label\u001b[0m\u001b[0;34m(\u001b[0m\u001b[0mkey\u001b[0m\u001b[0;34m,\u001b[0m \u001b[0maxis\u001b[0m\u001b[0;34m=\u001b[0m\u001b[0maxis\u001b[0m\u001b[0;34m)\u001b[0m\u001b[0;34m\u001b[0m\u001b[0;34m\u001b[0m\u001b[0m\n\u001b[0m\u001b[1;32m   1111\u001b[0m \u001b[0;34m\u001b[0m\u001b[0m\n\u001b[1;32m   1112\u001b[0m     \u001b[0;32mdef\u001b[0m \u001b[0m_get_slice_axis\u001b[0m\u001b[0;34m(\u001b[0m\u001b[0mself\u001b[0m\u001b[0;34m,\u001b[0m \u001b[0mslice_obj\u001b[0m\u001b[0;34m:\u001b[0m \u001b[0mslice\u001b[0m\u001b[0;34m,\u001b[0m \u001b[0maxis\u001b[0m\u001b[0;34m:\u001b[0m \u001b[0mint\u001b[0m\u001b[0;34m)\u001b[0m\u001b[0;34m:\u001b[0m\u001b[0;34m\u001b[0m\u001b[0;34m\u001b[0m\u001b[0m\n",
            "\u001b[0;32m/usr/local/lib/python3.6/dist-packages/pandas/core/indexing.py\u001b[0m in \u001b[0;36m_get_label\u001b[0;34m(self, label, axis)\u001b[0m\n\u001b[1;32m   1057\u001b[0m     \u001b[0;32mdef\u001b[0m \u001b[0m_get_label\u001b[0m\u001b[0;34m(\u001b[0m\u001b[0mself\u001b[0m\u001b[0;34m,\u001b[0m \u001b[0mlabel\u001b[0m\u001b[0;34m,\u001b[0m \u001b[0maxis\u001b[0m\u001b[0;34m:\u001b[0m \u001b[0mint\u001b[0m\u001b[0;34m)\u001b[0m\u001b[0;34m:\u001b[0m\u001b[0;34m\u001b[0m\u001b[0;34m\u001b[0m\u001b[0m\n\u001b[1;32m   1058\u001b[0m         \u001b[0;31m# GH#5667 this will fail if the label is not present in the axis.\u001b[0m\u001b[0;34m\u001b[0m\u001b[0;34m\u001b[0m\u001b[0;34m\u001b[0m\u001b[0m\n\u001b[0;32m-> 1059\u001b[0;31m         \u001b[0;32mreturn\u001b[0m \u001b[0mself\u001b[0m\u001b[0;34m.\u001b[0m\u001b[0mobj\u001b[0m\u001b[0;34m.\u001b[0m\u001b[0mxs\u001b[0m\u001b[0;34m(\u001b[0m\u001b[0mlabel\u001b[0m\u001b[0;34m,\u001b[0m \u001b[0maxis\u001b[0m\u001b[0;34m=\u001b[0m\u001b[0maxis\u001b[0m\u001b[0;34m)\u001b[0m\u001b[0;34m\u001b[0m\u001b[0;34m\u001b[0m\u001b[0m\n\u001b[0m\u001b[1;32m   1060\u001b[0m \u001b[0;34m\u001b[0m\u001b[0m\n\u001b[1;32m   1061\u001b[0m     \u001b[0;32mdef\u001b[0m \u001b[0m_handle_lowerdim_multi_index_axis0\u001b[0m\u001b[0;34m(\u001b[0m\u001b[0mself\u001b[0m\u001b[0;34m,\u001b[0m \u001b[0mtup\u001b[0m\u001b[0;34m:\u001b[0m \u001b[0mTuple\u001b[0m\u001b[0;34m)\u001b[0m\u001b[0;34m:\u001b[0m\u001b[0;34m\u001b[0m\u001b[0;34m\u001b[0m\u001b[0m\n",
            "\u001b[0;32m/usr/local/lib/python3.6/dist-packages/pandas/core/generic.py\u001b[0m in \u001b[0;36mxs\u001b[0;34m(self, key, axis, level, drop_level)\u001b[0m\n\u001b[1;32m   3491\u001b[0m             \u001b[0mloc\u001b[0m\u001b[0;34m,\u001b[0m \u001b[0mnew_index\u001b[0m \u001b[0;34m=\u001b[0m \u001b[0mself\u001b[0m\u001b[0;34m.\u001b[0m\u001b[0mindex\u001b[0m\u001b[0;34m.\u001b[0m\u001b[0mget_loc_level\u001b[0m\u001b[0;34m(\u001b[0m\u001b[0mkey\u001b[0m\u001b[0;34m,\u001b[0m \u001b[0mdrop_level\u001b[0m\u001b[0;34m=\u001b[0m\u001b[0mdrop_level\u001b[0m\u001b[0;34m)\u001b[0m\u001b[0;34m\u001b[0m\u001b[0;34m\u001b[0m\u001b[0m\n\u001b[1;32m   3492\u001b[0m         \u001b[0;32melse\u001b[0m\u001b[0;34m:\u001b[0m\u001b[0;34m\u001b[0m\u001b[0;34m\u001b[0m\u001b[0m\n\u001b[0;32m-> 3493\u001b[0;31m             \u001b[0mloc\u001b[0m \u001b[0;34m=\u001b[0m \u001b[0mself\u001b[0m\u001b[0;34m.\u001b[0m\u001b[0mindex\u001b[0m\u001b[0;34m.\u001b[0m\u001b[0mget_loc\u001b[0m\u001b[0;34m(\u001b[0m\u001b[0mkey\u001b[0m\u001b[0;34m)\u001b[0m\u001b[0;34m\u001b[0m\u001b[0;34m\u001b[0m\u001b[0m\n\u001b[0m\u001b[1;32m   3494\u001b[0m \u001b[0;34m\u001b[0m\u001b[0m\n\u001b[1;32m   3495\u001b[0m             \u001b[0;32mif\u001b[0m \u001b[0misinstance\u001b[0m\u001b[0;34m(\u001b[0m\u001b[0mloc\u001b[0m\u001b[0;34m,\u001b[0m \u001b[0mnp\u001b[0m\u001b[0;34m.\u001b[0m\u001b[0mndarray\u001b[0m\u001b[0;34m)\u001b[0m\u001b[0;34m:\u001b[0m\u001b[0;34m\u001b[0m\u001b[0;34m\u001b[0m\u001b[0m\n",
            "\u001b[0;32m/usr/local/lib/python3.6/dist-packages/pandas/core/indexes/base.py\u001b[0m in \u001b[0;36mget_loc\u001b[0;34m(self, key, method, tolerance)\u001b[0m\n\u001b[1;32m   2898\u001b[0m                 \u001b[0;32mreturn\u001b[0m \u001b[0mself\u001b[0m\u001b[0;34m.\u001b[0m\u001b[0m_engine\u001b[0m\u001b[0;34m.\u001b[0m\u001b[0mget_loc\u001b[0m\u001b[0;34m(\u001b[0m\u001b[0mcasted_key\u001b[0m\u001b[0;34m)\u001b[0m\u001b[0;34m\u001b[0m\u001b[0;34m\u001b[0m\u001b[0m\n\u001b[1;32m   2899\u001b[0m             \u001b[0;32mexcept\u001b[0m \u001b[0mKeyError\u001b[0m \u001b[0;32mas\u001b[0m \u001b[0merr\u001b[0m\u001b[0;34m:\u001b[0m\u001b[0;34m\u001b[0m\u001b[0;34m\u001b[0m\u001b[0m\n\u001b[0;32m-> 2900\u001b[0;31m                 \u001b[0;32mraise\u001b[0m \u001b[0mKeyError\u001b[0m\u001b[0;34m(\u001b[0m\u001b[0mkey\u001b[0m\u001b[0;34m)\u001b[0m \u001b[0;32mfrom\u001b[0m \u001b[0merr\u001b[0m\u001b[0;34m\u001b[0m\u001b[0;34m\u001b[0m\u001b[0m\n\u001b[0m\u001b[1;32m   2901\u001b[0m \u001b[0;34m\u001b[0m\u001b[0m\n\u001b[1;32m   2902\u001b[0m         \u001b[0;32mif\u001b[0m \u001b[0mtolerance\u001b[0m \u001b[0;32mis\u001b[0m \u001b[0;32mnot\u001b[0m \u001b[0;32mNone\u001b[0m\u001b[0;34m:\u001b[0m\u001b[0;34m\u001b[0m\u001b[0;34m\u001b[0m\u001b[0m\n",
            "\u001b[0;31mKeyError\u001b[0m: 63"
          ]
        },
        {
          "output_type": "display_data",
          "data": {
            "image/png": "[encoded data removed]",
            "text/plain": [
              "<Figure size 576x576 with 1 Axes>"
            ]
          },
          "metadata": {
            "tags": [],
            "needs_background": "light"
          }
        }
      ]
    },
    {
      "cell_type": "code",
      "metadata": {
        "id": "YNqfR_XotWKa"
      },
      "source": [
        ""
      ],
      "execution_count": null,
      "outputs": []
    }
  ]
}