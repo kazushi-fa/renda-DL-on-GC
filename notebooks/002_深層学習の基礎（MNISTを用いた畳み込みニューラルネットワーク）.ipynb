{
  "nbformat": 4,
  "nbformat_minor": 0,
  "metadata": {
    "colab": {
      "name": "002_深層学習の基礎（MNISTを用いた畳み込みニューラルネットワーク）.ipynb",
      "provenance": [],
      "collapsed_sections": [],
      "toc_visible": true
    },
    "kernelspec": {
      "name": "python3",
      "display_name": "Python 3"
    },
    "accelerator": "GPU"
  },
  "cells": [
    {
      "cell_type": "markdown",
      "metadata": {
        "id": "XAr5I2dxihOI"
      },
      "source": [
        "<a href=\"https://colab.research.google.com/github/mjvakili/Land_use_classification/blob/master/land_cover_vanila_classification.ipynb\" target=\"_parent\"><img src=\"https://colab.research.google.com/assets/colab-badge.svg\" alt=\"Open In Colab\"/></a>"
      ]
    },
    {
      "cell_type": "markdown",
      "metadata": {
        "id": "oxerrJbGesj7"
      },
      "source": [
        "# **このノートブックについて**\n",
        "\n",
        "---\n",
        "\n",
        "\n",
        "本ノートブックは深層学習の最初の第一歩として自学自習や研修等でお使いいただけるよう、元村和史(Kazushi Motomura)が作成、公開しているものです。\n",
        "\n",
        "自由にお使いいただけますが、よりよいノートブックに出来ればと思っておりますので、使用した感想等を作成者にお寄せ頂けると幸いです。私自身もまだまだ勉強中ですので、是非よろしくお願いいたします。\n",
        "\n",
        "このノートブックはPythonの基本的なコードで書かれてはいるものの、その使い方を一行一行解説するものではありません。\n",
        "ただし、特に知識がなくてもGoogleColabratry上で「Shift+Enter」を連打すればとにかく動くように作っています。動いている深層学習モデルを触って動かすことが出来るので、Pythonにそこまで馴染みがなくても、「何となく」深層学習モデルを作成して、動かしてみることができます。(試しに「Shift+Enter」を連打して最後まで進めてみてください)\n",
        "\n",
        "何となく動いてしまうので、馴染みのない方は気持ち悪く感じるかもしれませんが、まさにそれが入り口です。このノートブックに書かれているコードは基本的なものばかりですので1行1行何をしているのか調べながら追っていただくことで、Pythonの勉強の導入としてお使いいただけると思います。\n",
        "\n",
        "本ノートブックの作成に当たって参考にしたサイト等は以下です。是非ご活用ください。\n",
        "\n",
        "*   https://github.com/LinguoLi/mnist_tutorial\n",
        "*   https://github.com/wxs/keras-mnist-tutorial/blob/master/MNIST%20in%20Keras.ipynb\n",
        "* https://github.com/yashk2810/MNIST-Keras\n",
        "\n"
      ]
    },
    {
      "cell_type": "markdown",
      "metadata": {
        "id": "YUG_cUDaiPhb"
      },
      "source": [
        "# **このノートブックで動くもの**\n",
        "---\n",
        "このノートブックでは「手書き文字認識」データセットであるMNISTを使って、**手書きの文字（数字）が何の数字かを判定する畳み込みニューラルネットワークの学習から予測、結果の確認**まで行うことが出来ます。"
      ]
    },
    {
      "cell_type": "markdown",
      "metadata": {
        "id": "OT6GkBKAfTz-"
      },
      "source": [
        "# **このノートブックの構成**\n",
        "---\n",
        "このノートブックは以下の構成になっています。\n",
        "\n",
        "1. 学習データとテストデータ\n",
        "2. データの前処理\n",
        "3. 深層学習モデルの作成\n",
        "4. モデルの学習と出力\n",
        "5. 精度向上にチャレンジ\n",
        "\n",
        "各セルに[Work]と入っているセルは、少しコードの中身を変更してみるパートです。是非ご自身で手を動かしてみてください。\n",
        "\n",
        "\n"
      ]
    },
    {
      "cell_type": "markdown",
      "metadata": {
        "id": "HDErpU07lo2J"
      },
      "source": [
        "# **【前処理】学習データとテストデータ**\n",
        "---\n"
      ]
    },
    {
      "cell_type": "markdown",
      "metadata": {
        "id": "3z-Dve35ky0I"
      },
      "source": [
        "## **MNISTのインポート**\n",
        "MNISTはあらかじめダウンロードして利用することもできますが、今回はGoogleColabに直接ダウンロードして使用します。\n"
      ]
    },
    {
      "cell_type": "markdown",
      "metadata": {
        "id": "Qx8TJdWykICD"
      },
      "source": [
        "MNISTをロードします。\n",
        "\n"
      ]
    },
    {
      "cell_type": "code",
      "metadata": {
        "id": "IacYWApckXLJ"
      },
      "source": [
        "import tensorflow as tf #TensorFlowのロード\n",
        "mnist = tf.keras.datasets.mnist #MNISTデータセットのセット"
      ],
      "execution_count": 1,
      "outputs": []
    },
    {
      "cell_type": "markdown",
      "metadata": {
        "id": "0SoDeNY7kQbD"
      },
      "source": [
        "ロードしたMNISTを扱い易い配列に入れます。\n",
        "*   x_train : 学習用の入力データ\n",
        "*   y_train : 学習用の正解データ（x_trainが何の数字かというデータが入っている）\n",
        "\n",
        "\n",
        "*   x_test : テスト用の入力データ\n",
        "*   y_test : テスト用の正解データ（x_trainが何の数字かというデータが入っている）\n",
        "\n",
        "\n"
      ]
    },
    {
      "cell_type": "code",
      "metadata": {
        "id": "pY-Wkxxji81G",
        "colab": {
          "base_uri": "https://localhost:8080/"
        },
        "outputId": "8b967106-0ff8-4f7f-8bbf-5678fc27fb6b"
      },
      "source": [
        "(x_train, y_train), (x_test, y_test) = mnist.load_data() #MNIST画像を配列に入れる"
      ],
      "execution_count": 2,
      "outputs": [
        {
          "output_type": "stream",
          "text": [
            "Downloading data from https://storage.googleapis.com/tensorflow/tf-keras-datasets/mnist.npz\n",
            "11493376/11490434 [==============================] - 0s 0us/step\n"
          ],
          "name": "stdout"
        }
      ]
    },
    {
      "cell_type": "markdown",
      "metadata": {
        "id": "AI_QMz51lFiD"
      },
      "source": [
        "何枚画像が入っているか確認します。"
      ]
    },
    {
      "cell_type": "code",
      "metadata": {
        "id": "3RHYjxumity3",
        "colab": {
          "base_uri": "https://localhost:8080/"
        },
        "outputId": "b8051a07-02b4-4c48-eeef-2ea38ce2907b"
      },
      "source": [
        "print(\"MNISTは\",x_train.shape[0]+x_test.shape[0],\"枚ロードされました、\")#ロードされたMNIST画像枚数を確認する"
      ],
      "execution_count": 3,
      "outputs": [
        {
          "output_type": "stream",
          "text": [
            "MNISTは 70000 枚ロードされました、\n"
          ],
          "name": "stdout"
        }
      ]
    },
    {
      "cell_type": "markdown",
      "metadata": {
        "id": "Dah4HoFhiW6j"
      },
      "source": [
        "## MNIST画像の表示\n",
        "ロードしたMNIST画像を確認してみましょう。"
      ]
    },
    {
      "cell_type": "code",
      "metadata": {
        "id": "k5bLBmN_u5C3",
        "colab": {
          "base_uri": "https://localhost:8080/",
          "height": 282
        },
        "outputId": "8e2898a1-1407-42f4-8498-0aa6fdb145df"
      },
      "source": [
        "import matplotlib.pyplot as plt\n",
        "img_num=3\n",
        "plt.imshow(x_train[img_num,:,:]) #画像を表示する\n",
        "print(\"表示している画像は\",y_train[img_num],\"です。\")#表示している画像の数字を確認する。"
      ],
      "execution_count": 4,
      "outputs": [
        {
          "output_type": "stream",
          "text": [
            "表示している画像は 1 です。\n"
          ],
          "name": "stdout"
        },
        {
          "output_type": "display_data",
          "data": {
            "image/png": "[encoded data removed]",
            "text/plain": [
              "<Figure size 432x288 with 1 Axes>"
            ]
          },
          "metadata": {
            "tags": [],
            "needs_background": "light"
          }
        }
      ]
    },
    {
      "cell_type": "markdown",
      "metadata": {
        "id": "GDLRNsBWmJoq"
      },
      "source": [
        "### [Work]**自分の好きな番号を入力して、MNIST画像を表示してみましょう。**\n",
        "\n",
        "img_numの数字を好きな数字に変更してみてください。\n",
        "\n",
        "例）　```img_num = 10000```　を　```img_num = 128```に変更"
      ]
    },
    {
      "cell_type": "code",
      "metadata": {
        "id": "Qq-Wvj0ymE7o",
        "colab": {
          "base_uri": "https://localhost:8080/",
          "height": 282
        },
        "outputId": "6ebda074-6f8b-4a84-c80a-140d6be385d0"
      },
      "source": [
        "### img_numの数字を自分の好きな数字（60000以下）を設定して確認しましょう\n",
        "\n",
        "img_num=10000 #任意の画像番号\n",
        "\n",
        "###\n",
        "\n",
        "### ↓操作しないでください\n",
        "plt.imshow(x_train[img_num,:,:]) #画像を表示する\n",
        "print(\"表示している画像は\",y_train[img_num],\"です。\")#表示している画像の数字を確認する。\n",
        "### ↑操作しないでください\n"
      ],
      "execution_count": 5,
      "outputs": [
        {
          "output_type": "stream",
          "text": [
            "表示している画像は 3 です。\n"
          ],
          "name": "stdout"
        },
        {
          "output_type": "display_data",
          "data": {
            "image/png": "[encoded data removed]",
            "text/plain": [
              "<Figure size 432x288 with 1 Axes>"
            ]
          },
          "metadata": {
            "tags": [],
            "needs_background": "light"
          }
        }
      ]
    },
    {
      "cell_type": "markdown",
      "metadata": {
        "id": "Azai5AHtlxih"
      },
      "source": [
        "少し沢山のMNIST画像を確認してみましょう。"
      ]
    },
    {
      "cell_type": "code",
      "metadata": {
        "id": "ps4fVwYdl3RN",
        "colab": {
          "base_uri": "https://localhost:8080/",
          "height": 579
        },
        "outputId": "e782dc07-7853-4ef2-e575-0aad602a270e"
      },
      "source": [
        "plt.rcParams['figure.figsize'] = (8,10)\n",
        "for i in range(0,9,1):\n",
        "    plt.subplot(3,3,i+1)\n",
        "    plt.imshow(x_train[i], interpolation='none')\n",
        "    plt.title(\"Class {}\".format(y_train[i]))"
      ],
      "execution_count": 6,
      "outputs": [
        {
          "output_type": "display_data",
          "data": {
            "image/png": "[encoded data removed]",
            "text/plain": [
              "<Figure size 576x720 with 9 Axes>"
            ]
          },
          "metadata": {
            "tags": [],
            "needs_background": "light"
          }
        }
      ]
    },
    {
      "cell_type": "markdown",
      "metadata": {
        "id": "UtNTu719r58A"
      },
      "source": [
        "# **【前処理】データの前処理**\n",
        "---\n",
        "モデルが学習しやすくするために前処理を施します。"
      ]
    },
    {
      "cell_type": "markdown",
      "metadata": {
        "id": "s7-JzBZpsCiy"
      },
      "source": [
        "## 正規化する\n",
        "通常MNISTの画像は各ピクセル毎に0～255の256諧調（8bit）で濃淡を表すデータが格納されています。この各ピクセルの値を0～1の間に収まるように255で割っておきます。こうしたデータの値の範囲（スケール）を揃える処理を正規化といいます。正規化する理由は深層学習モデルの学習効率を上げるためです。\n",
        "\n",
        "学習するデータによってはデータの値の範囲（スケール）が異なるデータが混在する場合があり、正規化はそうした場合に特に効果があります。\n",
        "例えば65536諧調（16bit）の画像場合、各ピクセル値は0～65535の範囲の値となり、8bitよりも非常に大きい値になります。機械学習モデルが学習する際にこうしたスケールの異なるデータが混在すると、深層学習モデルの学習効率が悪くなります。"
      ]
    },
    {
      "cell_type": "code",
      "metadata": {
        "id": "WnpxEnj5t7BI"
      },
      "source": [
        "x_train, x_test = x_train / 255.0, x_test / 255.0 #MNIST画像を正規化"
      ],
      "execution_count": 7,
      "outputs": []
    },
    {
      "cell_type": "markdown",
      "metadata": {
        "id": "6Tdoz_mHwW2B"
      },
      "source": [
        "## **One-hotエンコーディング**\n",
        "y_trainとy_testには「０～９」の数字がそのまま入っています。\n",
        "\n",
        "数字のままだとモデルで学習しにくいので、OneHotエンコーディングを行います。\n",
        "\n",
        "OneHotとは数字データを０と１に変換し、１の場所によって表す方法です。\n",
        "\n",
        "少しわかりにくいので例を見てください。\n",
        "\n",
        "例えば[0. 1. 2. 3. 4. 5. 6. 7. 8. 9.]がそれぞれの場所だとすると、\n",
        "\n",
        "* 「０」は「1,0,0,0,0,0,0,0,0,0」\n",
        "* 「３」は「0,0,1,0,0,0,0,0,0,0」\n",
        "* 「８」は「0,0,1,0,0,0,0,0,1,0」\n",
        "\n",
        "といったような形で、10個ゼロを並べてどの位置が1になるかで「0～9」の数字を表す方法です。\n"
      ]
    },
    {
      "cell_type": "markdown",
      "metadata": {
        "id": "pkbUgqUGmveJ"
      },
      "source": [
        "早速ロードしたデータを変換しておきます。"
      ]
    },
    {
      "cell_type": "code",
      "metadata": {
        "id": "7863wFhxweE1"
      },
      "source": [
        "from keras.utils import np_utils\n",
        "Y_train = np_utils.to_categorical(y_train, 10)\n",
        "Y_test = np_utils.to_categorical(y_test, 10)"
      ],
      "execution_count": 8,
      "outputs": []
    },
    {
      "cell_type": "markdown",
      "metadata": {
        "id": "JgFnK6yXzouU"
      },
      "source": [
        "ひとつ確認してみましょう"
      ]
    },
    {
      "cell_type": "code",
      "metadata": {
        "id": "DPCnPrhbyof1",
        "colab": {
          "base_uri": "https://localhost:8080/"
        },
        "outputId": "fc2ff1c2-0329-4ed7-995a-ac40f21b8ff4"
      },
      "source": [
        "img_num=10000\n",
        "print(\"元の数字は\", y_train[img_num], \"です。\")\n",
        "print(\"どの位置が1になっているかで数字を表現しています。\")\n",
        "print(\"[0. 1. 2. 3. 4. 5. 6. 7. 8. 9.]\")\n",
        "print(Y_train[img_num])"
      ],
      "execution_count": 9,
      "outputs": [
        {
          "output_type": "stream",
          "text": [
            "元の数字は 3 です。\n",
            "どの位置が1になっているかで数字を表現しています。\n",
            "[0. 1. 2. 3. 4. 5. 6. 7. 8. 9.]\n",
            "[0. 0. 0. 1. 0. 0. 0. 0. 0. 0.]\n"
          ],
          "name": "stdout"
        }
      ]
    },
    {
      "cell_type": "markdown",
      "metadata": {
        "id": "X4cHatdOzwWQ"
      },
      "source": [
        "### **[Work]OneHotエンコーディングを確認してみましょう**\n"
      ]
    },
    {
      "cell_type": "code",
      "metadata": {
        "id": "lojY_L_CzsV9",
        "colab": {
          "base_uri": "https://localhost:8080/"
        },
        "outputId": "c0f5f94e-6e5b-44b5-db66-9dc060e8a128"
      },
      "source": [
        "### img_numの数字を自分の好きな数字（60000以下）を設定して確認しましょう\n",
        "\n",
        "img_num=2000 #任意の画像番号\n",
        "\n",
        "###\n",
        "print(\"元の数字は\", y_train[img_num], \"です。\")\n",
        "print(\"どの位置が1になっているかで数字を表現しています。\")\n",
        "print(\"[0. 1. 2. 3. 4. 5. 6. 7. 8. 9.]\")\n",
        "print(Y_train[img_num])"
      ],
      "execution_count": 10,
      "outputs": [
        {
          "output_type": "stream",
          "text": [
            "元の数字は 5 です。\n",
            "どの位置が1になっているかで数字を表現しています。\n",
            "[0. 1. 2. 3. 4. 5. 6. 7. 8. 9.]\n",
            "[0. 0. 0. 0. 0. 1. 0. 0. 0. 0.]\n"
          ],
          "name": "stdout"
        }
      ]
    },
    {
      "cell_type": "markdown",
      "metadata": {
        "id": "uvIJ5B0esmJL"
      },
      "source": [
        "## **次元を追加する**\n",
        "今回扱う深層学習モデルに入力するために次元を追加します。\n",
        "\n",
        "先ず、先ほどと同じように今のデータの大きさを確認します。"
      ]
    },
    {
      "cell_type": "code",
      "metadata": {
        "id": "J2W81owttCX5",
        "colab": {
          "base_uri": "https://localhost:8080/"
        },
        "outputId": "f89c3288-0e22-4992-ab51-9525ebe59a75"
      },
      "source": [
        "print(\"x_train配列の大きさは\",x_train.shape,\"です。\")\n",
        "print(\"y_train配列の大きさは\",y_train.shape,\"です。\")\n",
        "print(\"x_test配列の大きさは\",x_test.shape,\"です。\")\n",
        "print(\"y_test配列の大きさは\",y_test.shape,\"です。\")"
      ],
      "execution_count": 11,
      "outputs": [
        {
          "output_type": "stream",
          "text": [
            "x_train配列の大きさは (60000, 28, 28) です。\n",
            "y_train配列の大きさは (60000,) です。\n",
            "x_test配列の大きさは (10000, 28, 28) です。\n",
            "y_test配列の大きさは (10000,) です。\n"
          ],
          "name": "stdout"
        }
      ]
    },
    {
      "cell_type": "markdown",
      "metadata": {
        "id": "qKeHYeKqtL3d"
      },
      "source": [
        "配列に次元を追加する処理を行います。"
      ]
    },
    {
      "cell_type": "code",
      "metadata": {
        "id": "bR15e6hMszAC"
      },
      "source": [
        "# (60000, 28, 28)を(60000, 28, 28, 1)に次元を追加\n",
        "x_train = x_train[..., tf.newaxis]\n",
        "x_test = x_test[..., tf.newaxis]"
      ],
      "execution_count": 12,
      "outputs": []
    },
    {
      "cell_type": "code",
      "metadata": {
        "id": "XQW12bCUtSd3",
        "colab": {
          "base_uri": "https://localhost:8080/"
        },
        "outputId": "6ef9d7a9-368a-4fdd-bf81-4bba443965a8"
      },
      "source": [
        "print(\"x_train配列の大きさは\",x_train.shape,\"です。\")\n",
        "print(\"y_train配列の大きさは\",y_train.shape,\"です。\")\n",
        "print(\"x_test配列の大きさは\",x_test.shape,\"です。\")\n",
        "print(\"y_test配列の大きさは\",y_test.shape,\"です。\")"
      ],
      "execution_count": 13,
      "outputs": [
        {
          "output_type": "stream",
          "text": [
            "x_train配列の大きさは (60000, 28, 28, 1) です。\n",
            "y_train配列の大きさは (60000,) です。\n",
            "x_test配列の大きさは (10000, 28, 28, 1) です。\n",
            "y_test配列の大きさは (10000,) です。\n"
          ],
          "name": "stdout"
        }
      ]
    },
    {
      "cell_type": "markdown",
      "metadata": {
        "id": "8OmSYo6ctRDu"
      },
      "source": [
        "x_trainとx_testの配列の次元が変わっています。\n",
        "\n",
        "これは画像を扱う際に「チャンネル」を考慮する必要があるためです。\n",
        "\n",
        "カラー画像の場合、RGBのそれぞれの色を合成してカラーを表現しています。R・G・Bそれぞれ1チャンネル、カラー画像は合計3チャンネルで画像を構成します。\n",
        "\n",
        "(60000, 28, 28, 1)の場合、6000枚の画像が28×28の大きさで、1チャンネル入っているという意味です。今回のMNIST画像はモノクロなので1チャンネルであることを明示しただけで、本質的にデータを操作したわけではありません。"
      ]
    },
    {
      "cell_type": "markdown",
      "metadata": {
        "id": "xZXaroaF2_ch"
      },
      "source": [
        "## **型変換**\n",
        "今回のモデルに入力するためにベクトル化と型変換をしておきます。"
      ]
    },
    {
      "cell_type": "code",
      "metadata": {
        "id": "E9BapdIn0JB_"
      },
      "source": [
        "X_train = x_train.astype('float32')\n",
        "X_test = x_test.astype('float32')"
      ],
      "execution_count": 14,
      "outputs": []
    },
    {
      "cell_type": "markdown",
      "metadata": {
        "id": "v0fUNu2_vfm3"
      },
      "source": [
        "# **深層学習モデルの作成**\n",
        "---\n",
        "ここでは深層学習モデルを作成します。"
      ]
    },
    {
      "cell_type": "markdown",
      "metadata": {
        "id": "xLXzHZZqU9Ep"
      },
      "source": [
        "## **ライブラリのインポート**\n",
        "必要なライブラリをインポートします"
      ]
    },
    {
      "cell_type": "code",
      "metadata": {
        "id": "kV94Fbqx0tTO"
      },
      "source": [
        "from keras.models import Sequential\n",
        "from keras.layers.core import Dense, Activation\n",
        "from keras.layers import Conv2D, MaxPooling2D, Flatten\n",
        "import numpy as np\n",
        "import pandas as pd"
      ],
      "execution_count": 15,
      "outputs": []
    },
    {
      "cell_type": "markdown",
      "metadata": {
        "id": "fvY82wFnVJhN"
      },
      "source": [
        "## **モデルの作成**\n",
        "\n",
        "今回、使うモデル畳み込みニューラルネットワークです。\n",
        "\n",
        "畳み込み層と活性化が一層、プーリング層が一層あり、ベクトル化された後、10つのノードを持つ出力層を設定します。出力層が１０個のノードであるのは、入力されたMNIST画像（手書き文字画像）が0～9のどの数字である可能性が高いか出力するためです。"
      ]
    },
    {
      "cell_type": "markdown",
      "metadata": {
        "id": "OYefS-PLsXDs"
      },
      "source": [
        "今回設定しているモデルは以下のイメージです。![図2.png](data:image/png;base64,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)"
      ]
    },
    {
      "cell_type": "markdown",
      "metadata": {
        "id": "7JtCLFwssfrq"
      },
      "source": [
        "モデル構成をセットしてみましょう。"
      ]
    },
    {
      "cell_type": "code",
      "metadata": {
        "id": "wlF4dngf0IEm"
      },
      "source": [
        "model = Sequential()\n",
        "\n",
        "model.add(Conv2D(2, (3, 3), input_shape=(28,28,1)))\n",
        "model.add(Activation('relu'))\n",
        "model.add(MaxPooling2D(pool_size=(2,2)))\n",
        "\n",
        "# Fully connected layer\n",
        "model.add(Flatten())\n",
        "\n",
        "model.add(Dense(10))\n",
        "model.add(Activation('softmax'))"
      ],
      "execution_count": 16,
      "outputs": []
    },
    {
      "cell_type": "markdown",
      "metadata": {
        "id": "DVmPETH7VniG"
      },
      "source": [
        "モデルをコンパイルします。\n",
        "\n",
        "コンパイルする際に、損失関数と最適化手法をセットします。\n",
        "\n",
        "また今回は正解率で比較するので正解率が出せるようにしておきます。"
      ]
    },
    {
      "cell_type": "code",
      "metadata": {
        "id": "BfBOf3aj0Ulv"
      },
      "source": [
        "model.compile(loss='categorical_crossentropy', optimizer='adam', metrics=['accuracy'])"
      ],
      "execution_count": 17,
      "outputs": []
    },
    {
      "cell_type": "markdown",
      "metadata": {
        "id": "Qf-wvKRno0Oo"
      },
      "source": [
        "## **（補足）損失関数と最適化**\n",
        "* 損失関数：学習結果を評価する指標で、学習時に用いる。モデルが出した答えがどれくらいズレていたかがわかるので、モデルがモデル自身をどれくらい修正するかこの損失関数から判断する。\n",
        "\n",
        "* 最適化手法：モデルの学習方法（パラメータの更新方法）。損失関数（モデル出力と正解のズレ）に基づいてどの様にモデルを学習させるかというやり方。\n",
        "\n",
        "* 評価関数：精度などのモデルの性能を表す指標。損失関数と似ているが異なる。\n",
        "\n",
        "参考：https://qiita.com/omiita/items/1735c1d048fe5f611f80"
      ]
    },
    {
      "cell_type": "markdown",
      "metadata": {
        "id": "ICyogJ7DsrTt"
      },
      "source": [
        "モデルが正しくセットされているか確認してみましょう。"
      ]
    },
    {
      "cell_type": "code",
      "metadata": {
        "colab": {
          "base_uri": "https://localhost:8080/"
        },
        "id": "4aAW5sN5ssLn",
        "outputId": "19037eac-2707-4b25-fd49-2a067d084f56"
      },
      "source": [
        "model.summary()"
      ],
      "execution_count": 18,
      "outputs": [
        {
          "output_type": "stream",
          "text": [
            "Model: \"sequential\"\n",
            "_________________________________________________________________\n",
            "Layer (type)                 Output Shape              Param #   \n",
            "=================================================================\n",
            "conv2d (Conv2D)              (None, 26, 26, 2)         20        \n",
            "_________________________________________________________________\n",
            "activation (Activation)      (None, 26, 26, 2)         0         \n",
            "_________________________________________________________________\n",
            "max_pooling2d (MaxPooling2D) (None, 13, 13, 2)         0         \n",
            "_________________________________________________________________\n",
            "flatten (Flatten)            (None, 338)               0         \n",
            "_________________________________________________________________\n",
            "dense (Dense)                (None, 10)                3390      \n",
            "_________________________________________________________________\n",
            "activation_1 (Activation)    (None, 10)                0         \n",
            "=================================================================\n",
            "Total params: 3,410\n",
            "Trainable params: 3,410\n",
            "Non-trainable params: 0\n",
            "_________________________________________________________________\n"
          ],
          "name": "stdout"
        }
      ]
    },
    {
      "cell_type": "markdown",
      "metadata": {
        "id": "nC-Sm-ePsvza"
      },
      "source": [
        "畳み込み層 (Conv2D)と活性化 (Activation)が一層、プーリング層(MaxPooling2D)が一層あり、ベクトル化flatten (Flatten)された後、10つのノードを持つ出力層 (DenseとActivation)が設定されています。"
      ]
    },
    {
      "cell_type": "markdown",
      "metadata": {
        "id": "Tvk4UKX2V7J4"
      },
      "source": [
        "# **モデルの学習と出力**\n",
        "---\n",
        "モデルを学習させます。"
      ]
    },
    {
      "cell_type": "markdown",
      "metadata": {
        "id": "YmLML-Uqeyfj"
      },
      "source": [
        "学習に当たっては以下の条件で行っています。\n",
        "*   バッチサイズ：128\n",
        "*   エポック数：3"
      ]
    },
    {
      "cell_type": "code",
      "metadata": {
        "id": "pclgT3P50Wp2",
        "colab": {
          "base_uri": "https://localhost:8080/"
        },
        "outputId": "31df700f-3a9f-493e-e549-082722b3b9cf"
      },
      "source": [
        "model.fit(X_train, Y_train, batch_size=128, epochs=3,verbose=1, validation_data=(X_test, Y_test))"
      ],
      "execution_count": 19,
      "outputs": [
        {
          "output_type": "stream",
          "text": [
            "Epoch 1/3\n",
            "469/469 [==============================] - 9s 4ms/step - loss: 1.2671 - accuracy: 0.6342 - val_loss: 0.3421 - val_accuracy: 0.9027\n",
            "Epoch 2/3\n",
            "469/469 [==============================] - 2s 4ms/step - loss: 0.3354 - accuracy: 0.9019 - val_loss: 0.2926 - val_accuracy: 0.9155\n",
            "Epoch 3/3\n",
            "469/469 [==============================] - 2s 3ms/step - loss: 0.3003 - accuracy: 0.9116 - val_loss: 0.2746 - val_accuracy: 0.9205\n"
          ],
          "name": "stdout"
        },
        {
          "output_type": "execute_result",
          "data": {
            "text/plain": [
              "<tensorflow.python.keras.callbacks.History at 0x7fecf00705f8>"
            ]
          },
          "metadata": {
            "tags": []
          },
          "execution_count": 19
        }
      ]
    },
    {
      "cell_type": "markdown",
      "metadata": {
        "id": "aHVmLD0ZWyAf"
      },
      "source": [
        "## **学習したモデルの性能の評価**\n",
        "学習したモデルを評価してみましょう。「モデルの出力がどれくらい正解したか」という精度が％で得られます。"
      ]
    },
    {
      "cell_type": "code",
      "metadata": {
        "id": "-AJhh7EY0aEr",
        "colab": {
          "base_uri": "https://localhost:8080/"
        },
        "outputId": "b1d65f7a-01c1-41f0-e241-ffe7a46fe082"
      },
      "source": [
        "score = model.evaluate(X_test, Y_test)\n",
        "print(\"精度は{0:.1f}パーセントです。\".format(score[1]*100))"
      ],
      "execution_count": 20,
      "outputs": [
        {
          "output_type": "stream",
          "text": [
            "313/313 [==============================] - 1s 2ms/step - loss: 0.2746 - accuracy: 0.9205\n",
            "精度は92.0パーセントです。\n"
          ],
          "name": "stdout"
        }
      ]
    },
    {
      "cell_type": "markdown",
      "metadata": {
        "id": "CyDt1b2m2I_W"
      },
      "source": [
        "全結合（001）だと７０％でしたので、非常に性能が向上していることがわかります。"
      ]
    },
    {
      "cell_type": "markdown",
      "metadata": {
        "id": "-yf-iCOrY0dx"
      },
      "source": [
        "## **間違えた画像を確認する**\n",
        "どんな数字を間違えたか確認してみましょう。"
      ]
    },
    {
      "cell_type": "code",
      "metadata": {
        "id": "e6TFZNeARN_K",
        "colab": {
          "base_uri": "https://localhost:8080/"
        },
        "outputId": "09e96b2a-03ae-483b-e64a-346187bc64bb"
      },
      "source": [
        "# 間違えた数字だけを取り出す\n",
        "predictions = model.predict_classes(X_test)\n",
        "predictions = list(predictions)\n",
        "actuals = list(y_test)\n",
        "df = pd.DataFrame({'Actual': actuals, 'Predictions': predictions})\n",
        "df_and = df[(df['Actual'] != df['Predictions'])]"
      ],
      "execution_count": 21,
      "outputs": [
        {
          "output_type": "stream",
          "text": [
            "/usr/local/lib/python3.6/dist-packages/tensorflow/python/keras/engine/sequential.py:450: UserWarning: `model.predict_classes()` is deprecated and will be removed after 2021-01-01. Please use instead:* `np.argmax(model.predict(x), axis=-1)`,   if your model does multi-class classification   (e.g. if it uses a `softmax` last-layer activation).* `(model.predict(x) > 0.5).astype(\"int32\")`,   if your model does binary classification   (e.g. if it uses a `sigmoid` last-layer activation).\n",
            "  warnings.warn('`model.predict_classes()` is deprecated and '\n"
          ],
          "name": "stderr"
        }
      ]
    },
    {
      "cell_type": "markdown",
      "metadata": {
        "id": "RWnlMR74p9MB"
      },
      "source": [
        "間違えた数字だけを取り出してみます。\n",
        "「Actual」カラムが正解の数字、「Predictions」が学習したモデルが出力した結果です。\n",
        "一番左の数字は画像の通し番号です。"
      ]
    },
    {
      "cell_type": "code",
      "metadata": {
        "id": "DImJAVHFSD9W",
        "colab": {
          "base_uri": "https://localhost:8080/",
          "height": 204
        },
        "outputId": "980c7b6e-1b07-4d2b-b0fe-21eca0e0b0e5"
      },
      "source": [
        "df_and.head()"
      ],
      "execution_count": 22,
      "outputs": [
        {
          "output_type": "execute_result",
          "data": {
            "text/html": [
              "<div>\n",
              "<style scoped>\n",
              "    .dataframe tbody tr th:only-of-type {\n",
              "        vertical-align: middle;\n",
              "    }\n",
              "\n",
              "    .dataframe tbody tr th {\n",
              "        vertical-align: top;\n",
              "    }\n",
              "\n",
              "    .dataframe thead th {\n",
              "        text-align: right;\n",
              "    }\n",
              "</style>\n",
              "<table border=\"1\" class=\"dataframe\">\n",
              "  <thead>\n",
              "    <tr style=\"text-align: right;\">\n",
              "      <th></th>\n",
              "      <th>Actual</th>\n",
              "      <th>Predictions</th>\n",
              "    </tr>\n",
              "  </thead>\n",
              "  <tbody>\n",
              "    <tr>\n",
              "      <th>8</th>\n",
              "      <td>5</td>\n",
              "      <td>6</td>\n",
              "    </tr>\n",
              "    <tr>\n",
              "      <th>33</th>\n",
              "      <td>4</td>\n",
              "      <td>6</td>\n",
              "    </tr>\n",
              "    <tr>\n",
              "      <th>77</th>\n",
              "      <td>2</td>\n",
              "      <td>7</td>\n",
              "    </tr>\n",
              "    <tr>\n",
              "      <th>92</th>\n",
              "      <td>9</td>\n",
              "      <td>4</td>\n",
              "    </tr>\n",
              "    <tr>\n",
              "      <th>126</th>\n",
              "      <td>0</td>\n",
              "      <td>3</td>\n",
              "    </tr>\n",
              "  </tbody>\n",
              "</table>\n",
              "</div>"
            ],
            "text/plain": [
              "     Actual  Predictions\n",
              "8         5            6\n",
              "33        4            6\n",
              "77        2            7\n",
              "92        9            4\n",
              "126       0            3"
            ]
          },
          "metadata": {
            "tags": []
          },
          "execution_count": 22
        }
      ]
    },
    {
      "cell_type": "markdown",
      "metadata": {
        "id": "lg6fxB5jZLtY"
      },
      "source": [
        "間違えた数字だけを確認してみましょう。"
      ]
    },
    {
      "cell_type": "code",
      "metadata": {
        "id": "MHx1DUGCZSVt",
        "colab": {
          "base_uri": "https://localhost:8080/",
          "height": 511
        },
        "outputId": "4067edcc-e800-4030-bdf4-088d3b2f751e"
      },
      "source": [
        "import matplotlib.pyplot as plt\n",
        "img_num=126\n",
        "plt.imshow(x_test[img_num,:,:,0]) #画像を表示する\n",
        "print(\"表示している画像は\",y_test[img_num],\"で、\",df_and.loc[img_num, 'Predictions'],\"と間違えました。\")#表示している画像の数字を確認する。"
      ],
      "execution_count": 23,
      "outputs": [
        {
          "output_type": "stream",
          "text": [
            "表示している画像は 0 で、 3 と間違えました。\n"
          ],
          "name": "stdout"
        },
        {
          "output_type": "display_data",
          "data": {
            "image/png": "[encoded data removed]",
            "text/plain": [
              "<Figure size 576x720 with 1 Axes>"
            ]
          },
          "metadata": {
            "tags": [],
            "needs_background": "light"
          }
        }
      ]
    },
    {
      "cell_type": "markdown",
      "metadata": {
        "id": "En_X7jbpo-lM"
      },
      "source": [
        "### **[Work]間違えた数字を確認する**\n",
        "間違えた数字を自分で確認してみましょう。"
      ]
    },
    {
      "cell_type": "markdown",
      "metadata": {
        "id": "qs1VrimCpP2s"
      },
      "source": [
        "まず間違えた数字を10個表示します。"
      ]
    },
    {
      "cell_type": "code",
      "metadata": {
        "id": "bU_jmUoOpJ4r",
        "colab": {
          "base_uri": "https://localhost:8080/",
          "height": 359
        },
        "outputId": "a7b5789e-e130-4d00-8834-32bf6be2801a"
      },
      "source": [
        "df_and.head(10)"
      ],
      "execution_count": 24,
      "outputs": [
        {
          "output_type": "execute_result",
          "data": {
            "text/html": [
              "<div>\n",
              "<style scoped>\n",
              "    .dataframe tbody tr th:only-of-type {\n",
              "        vertical-align: middle;\n",
              "    }\n",
              "\n",
              "    .dataframe tbody tr th {\n",
              "        vertical-align: top;\n",
              "    }\n",
              "\n",
              "    .dataframe thead th {\n",
              "        text-align: right;\n",
              "    }\n",
              "</style>\n",
              "<table border=\"1\" class=\"dataframe\">\n",
              "  <thead>\n",
              "    <tr style=\"text-align: right;\">\n",
              "      <th></th>\n",
              "      <th>Actual</th>\n",
              "      <th>Predictions</th>\n",
              "    </tr>\n",
              "  </thead>\n",
              "  <tbody>\n",
              "    <tr>\n",
              "      <th>8</th>\n",
              "      <td>5</td>\n",
              "      <td>6</td>\n",
              "    </tr>\n",
              "    <tr>\n",
              "      <th>33</th>\n",
              "      <td>4</td>\n",
              "      <td>6</td>\n",
              "    </tr>\n",
              "    <tr>\n",
              "      <th>77</th>\n",
              "      <td>2</td>\n",
              "      <td>7</td>\n",
              "    </tr>\n",
              "    <tr>\n",
              "      <th>92</th>\n",
              "      <td>9</td>\n",
              "      <td>4</td>\n",
              "    </tr>\n",
              "    <tr>\n",
              "      <th>126</th>\n",
              "      <td>0</td>\n",
              "      <td>3</td>\n",
              "    </tr>\n",
              "    <tr>\n",
              "      <th>149</th>\n",
              "      <td>2</td>\n",
              "      <td>9</td>\n",
              "    </tr>\n",
              "    <tr>\n",
              "      <th>193</th>\n",
              "      <td>9</td>\n",
              "      <td>3</td>\n",
              "    </tr>\n",
              "    <tr>\n",
              "      <th>195</th>\n",
              "      <td>3</td>\n",
              "      <td>5</td>\n",
              "    </tr>\n",
              "    <tr>\n",
              "      <th>217</th>\n",
              "      <td>6</td>\n",
              "      <td>5</td>\n",
              "    </tr>\n",
              "    <tr>\n",
              "      <th>233</th>\n",
              "      <td>8</td>\n",
              "      <td>7</td>\n",
              "    </tr>\n",
              "  </tbody>\n",
              "</table>\n",
              "</div>"
            ],
            "text/plain": [
              "     Actual  Predictions\n",
              "8         5            6\n",
              "33        4            6\n",
              "77        2            7\n",
              "92        9            4\n",
              "126       0            3\n",
              "149       2            9\n",
              "193       9            3\n",
              "195       3            5\n",
              "217       6            5\n",
              "233       8            7"
            ]
          },
          "metadata": {
            "tags": []
          },
          "execution_count": 24
        }
      ]
    },
    {
      "cell_type": "markdown",
      "metadata": {
        "id": "HfUnyOazpWAj"
      },
      "source": [
        "表示した結果の左のカラムの数字を\n",
        "```img_num = 62```という形で入力して、間違えた数字を確認してみてください。"
      ]
    },
    {
      "cell_type": "code",
      "metadata": {
        "id": "QJQGzC10pomn",
        "colab": {
          "base_uri": "https://localhost:8080/",
          "height": 511
        },
        "outputId": "dab0f401-2f68-4062-9ba1-63defe5bc0e8"
      },
      "source": [
        "### img_numの数字を自分の好きな数字を設定して確認しましょう\n",
        "\n",
        "img_num = 233 #任意の画像番号\n",
        "\n",
        "###\n",
        "plt.imshow(x_test[img_num,:,:,0]) #画像を表示する\n",
        "print(\"表示している画像は\",y_test[img_num],\"で、\",df_and.loc[img_num, 'Predictions'],\"と間違えました。\")\n",
        "#表示している画像の数字を確認する。"
      ],
      "execution_count": 25,
      "outputs": [
        {
          "output_type": "stream",
          "text": [
            "表示している画像は 8 で、 7 と間違えました。\n"
          ],
          "name": "stdout"
        },
        {
          "output_type": "display_data",
          "data": {
            "image/png": "[encoded data removed]",
            "text/plain": [
              "<Figure size 576x720 with 1 Axes>"
            ]
          },
          "metadata": {
            "tags": [],
            "needs_background": "light"
          }
        }
      ]
    },
    {
      "cell_type": "markdown",
      "metadata": {
        "id": "I7iQIsVrcEC1"
      },
      "source": [
        "# **[Work]精度向上にチャレンジ**\n",
        "---\n",
        "今日作ったモデルの精度を向上させてみましょう"
      ]
    },
    {
      "cell_type": "markdown",
      "metadata": {
        "id": "RGVNEpKscYKB"
      },
      "source": [
        "## **モデル構成を変更して性能を向上させる**\n",
        "\n",
        "ニューラルネットワークの構成を変更してみます。\n",
        "\n",
        "モデルのフィルタ数を増やすとモデルの表現力が向上しますので、ノード数を増やしてみましょう。\n",
        "\n",
        "以下のコードの```filters = 2```の2を好きな数字に変更してみてください。"
      ]
    },
    {
      "cell_type": "code",
      "metadata": {
        "id": "4h8TaHYKcYKE"
      },
      "source": [
        "filters = 2 #フィルタ数の変更\n",
        "\n",
        "model = Sequential()\n",
        "\n",
        "model.add(Conv2D(filters, (3, 3), input_shape=(28,28,1)))\n",
        "model.add(Activation('relu'))\n",
        "model.add(MaxPooling2D(pool_size=(2,2)))\n",
        "\n",
        "# Fully connected layer\n",
        "model.add(Flatten())\n",
        "\n",
        "model.add(Dense(10))\n",
        "model.add(Activation('softmax'))"
      ],
      "execution_count": 26,
      "outputs": []
    },
    {
      "cell_type": "markdown",
      "metadata": {
        "id": "3z1HaDMqdTtR"
      },
      "source": [
        "## **モデルのコンパイル**\n",
        "ここで指定しているパラメータは、他のパラメータに対して性能向上に寄与しない可能性が比較的高いので、ここでは変更しません。\n",
        "\n",
        "（ただしOptimizerは変更すると性能が向上する可能性はあります。）"
      ]
    },
    {
      "cell_type": "code",
      "metadata": {
        "id": "2NGTwMF8cYKL"
      },
      "source": [
        "model.compile(loss='categorical_crossentropy', optimizer='adam', metrics=['accuracy'])"
      ],
      "execution_count": 27,
      "outputs": []
    },
    {
      "cell_type": "markdown",
      "metadata": {
        "id": "k2lGR-zxcYKP"
      },
      "source": [
        "## **モデルの学習と出力を工夫する**\n",
        "モデルを学習させる際のパラメータを変更してみましょう。\n",
        "\n",
        "前回の学習では以下の条件で学習させていましたが、この数字を変更してみます。\n",
        "*   バッチサイズ：128\n",
        "*   エポック数：3\n",
        "\n",
        "```\n",
        "batch_num = 128\n",
        "epoch_num = 3\n",
        "```\n",
        "の128と3の数字をそれぞれ大きな値に変更してみてください。\n"
      ]
    },
    {
      "cell_type": "code",
      "metadata": {
        "id": "6CoQj566dkwS"
      },
      "source": [
        "batch_num = 128 # バッチサイズの変更： batch_size=128の数字を変更する\n",
        "epoch_num = 3 # エポック数の変更：epochs=3の数字を変更する"
      ],
      "execution_count": 31,
      "outputs": []
    },
    {
      "cell_type": "code",
      "metadata": {
        "id": "ZY1AoEAwcYKQ",
        "colab": {
          "base_uri": "https://localhost:8080/"
        },
        "outputId": "35dfc98a-8018-457e-84d1-9aeb809ee1e7"
      },
      "source": [
        "model.fit(X_train, Y_train, batch_size=batch_num, epochs=epoch_num, verbose=1, validation_data=(X_test, Y_test))"
      ],
      "execution_count": 32,
      "outputs": [
        {
          "output_type": "stream",
          "text": [
            "Epoch 1/3\n",
            "469/469 [==============================] - 2s 4ms/step - loss: 0.1937 - accuracy: 0.9430 - val_loss: 0.1827 - val_accuracy: 0.9471\n",
            "Epoch 2/3\n",
            "469/469 [==============================] - 2s 4ms/step - loss: 0.1868 - accuracy: 0.9456 - val_loss: 0.1823 - val_accuracy: 0.9463\n",
            "Epoch 3/3\n",
            "469/469 [==============================] - 2s 4ms/step - loss: 0.1818 - accuracy: 0.9466 - val_loss: 0.1780 - val_accuracy: 0.9477\n"
          ],
          "name": "stdout"
        },
        {
          "output_type": "execute_result",
          "data": {
            "text/plain": [
              "<tensorflow.python.keras.callbacks.History at 0x7fed034652b0>"
            ]
          },
          "metadata": {
            "tags": []
          },
          "execution_count": 32
        }
      ]
    },
    {
      "cell_type": "markdown",
      "metadata": {
        "id": "Nx03osGLcYKT"
      },
      "source": [
        "## **学習したモデルの性能の評価する**\n",
        "学習したモデルを評価してみましょう。"
      ]
    },
    {
      "cell_type": "code",
      "metadata": {
        "id": "YWPWaXnlcYKT",
        "colab": {
          "base_uri": "https://localhost:8080/"
        },
        "outputId": "ae883d36-df8d-4e46-8546-63f47dc8afc6"
      },
      "source": [
        "score = model.evaluate(X_test, Y_test)\n",
        "print(\"精度は{0:.1f}パーセントです。\".format(score[1]*100))"
      ],
      "execution_count": 33,
      "outputs": [
        {
          "output_type": "stream",
          "text": [
            "313/313 [==============================] - 1s 2ms/step - loss: 0.1780 - accuracy: 0.9477\n",
            "精度は94.8パーセントです。\n"
          ],
          "name": "stdout"
        }
      ]
    },
    {
      "cell_type": "markdown",
      "metadata": {
        "id": "oPzpdr5ycYKW"
      },
      "source": [
        "## **間違えた画像を確認する**\n",
        "どんな数字を間違えたか確認してみましょう。"
      ]
    },
    {
      "cell_type": "code",
      "metadata": {
        "id": "x3SRRiHacYKW",
        "colab": {
          "base_uri": "https://localhost:8080/"
        },
        "outputId": "8ba5d2d0-5ef5-4579-80b5-d8b714b6f417"
      },
      "source": [
        "# 間違えた数字だけを取り出す\n",
        "predictions = model.predict_classes(X_test)\n",
        "predictions = list(predictions)\n",
        "actuals = list(y_test)\n",
        "df = pd.DataFrame({'Actual': actuals, 'Predictions': predictions})\n",
        "df_and = df[(df['Actual'] != df['Predictions'])]"
      ],
      "execution_count": 34,
      "outputs": [
        {
          "output_type": "stream",
          "text": [
            "/usr/local/lib/python3.6/dist-packages/tensorflow/python/keras/engine/sequential.py:450: UserWarning: `model.predict_classes()` is deprecated and will be removed after 2021-01-01. Please use instead:* `np.argmax(model.predict(x), axis=-1)`,   if your model does multi-class classification   (e.g. if it uses a `softmax` last-layer activation).* `(model.predict(x) > 0.5).astype(\"int32\")`,   if your model does binary classification   (e.g. if it uses a `sigmoid` last-layer activation).\n",
            "  warnings.warn('`model.predict_classes()` is deprecated and '\n"
          ],
          "name": "stderr"
        }
      ]
    },
    {
      "cell_type": "code",
      "metadata": {
        "id": "fSfmhvy_cYKY",
        "colab": {
          "base_uri": "https://localhost:8080/",
          "height": 204
        },
        "outputId": "d8f24757-5a76-4ea5-908d-89e3792a78f8"
      },
      "source": [
        "df_and.head()"
      ],
      "execution_count": 35,
      "outputs": [
        {
          "output_type": "execute_result",
          "data": {
            "text/html": [
              "<div>\n",
              "<style scoped>\n",
              "    .dataframe tbody tr th:only-of-type {\n",
              "        vertical-align: middle;\n",
              "    }\n",
              "\n",
              "    .dataframe tbody tr th {\n",
              "        vertical-align: top;\n",
              "    }\n",
              "\n",
              "    .dataframe thead th {\n",
              "        text-align: right;\n",
              "    }\n",
              "</style>\n",
              "<table border=\"1\" class=\"dataframe\">\n",
              "  <thead>\n",
              "    <tr style=\"text-align: right;\">\n",
              "      <th></th>\n",
              "      <th>Actual</th>\n",
              "      <th>Predictions</th>\n",
              "    </tr>\n",
              "  </thead>\n",
              "  <tbody>\n",
              "    <tr>\n",
              "      <th>8</th>\n",
              "      <td>5</td>\n",
              "      <td>6</td>\n",
              "    </tr>\n",
              "    <tr>\n",
              "      <th>18</th>\n",
              "      <td>3</td>\n",
              "      <td>8</td>\n",
              "    </tr>\n",
              "    <tr>\n",
              "      <th>59</th>\n",
              "      <td>5</td>\n",
              "      <td>7</td>\n",
              "    </tr>\n",
              "    <tr>\n",
              "      <th>92</th>\n",
              "      <td>9</td>\n",
              "      <td>4</td>\n",
              "    </tr>\n",
              "    <tr>\n",
              "      <th>149</th>\n",
              "      <td>2</td>\n",
              "      <td>9</td>\n",
              "    </tr>\n",
              "  </tbody>\n",
              "</table>\n",
              "</div>"
            ],
            "text/plain": [
              "     Actual  Predictions\n",
              "8         5            6\n",
              "18        3            8\n",
              "59        5            7\n",
              "92        9            4\n",
              "149       2            9"
            ]
          },
          "metadata": {
            "tags": []
          },
          "execution_count": 35
        }
      ]
    },
    {
      "cell_type": "markdown",
      "metadata": {
        "id": "1wJ4s27hcYKa"
      },
      "source": [
        "間違えた数字だけを確認してみましょう。"
      ]
    },
    {
      "cell_type": "code",
      "metadata": {
        "id": "0uui181ecYKc",
        "colab": {
          "base_uri": "https://localhost:8080/",
          "height": 511
        },
        "outputId": "bc6086b2-35a3-46f7-b4a2-90bb6e044411"
      },
      "source": [
        "##変更する\n",
        "\n",
        "img_num=8\n",
        "\n",
        "###\n",
        "\n",
        "plt.imshow(x_test[img_num,:,:,0]) #画像を表示する\n",
        "print(\"表示している画像は\",y_test[img_num],\"で、\",df_and.loc[img_num, 'Predictions'],\"と間違えました。\")#表示している画像の数字を確認する。"
      ],
      "execution_count": 36,
      "outputs": [
        {
          "output_type": "stream",
          "text": [
            "表示している画像は 5 で、 6 と間違えました。\n"
          ],
          "name": "stdout"
        },
        {
          "output_type": "display_data",
          "data": {
            "image/png": "[encoded data removed]",
            "text/plain": [
              "<Figure size 576x720 with 1 Axes>"
            ]
          },
          "metadata": {
            "tags": [],
            "needs_background": "light"
          }
        }
      ]
    },
    {
      "cell_type": "markdown",
      "metadata": {
        "id": "bxGm6eH-sbNq"
      },
      "source": [
        "# **[ミニコンペ]さらなる精度向上**\n",
        "\n",
        "さらなる精度向上を試してみましょう。\n",
        "\n",
        "これまで実施した\n",
        "*   フィルタ数の変更\n",
        "*   エポック数\n",
        "*   バッチサイズの変更\n",
        "\n",
        "以外にも精度向上を行うことが出来ます。\n",
        "\n",
        "* 畳み込み層を増やす\n",
        "* 全結合層を増やす\n",
        "\n",
        "等が考えられます。\n",
        "\n",
        "自分で色々変更して100％を目指して精度向上してみましょう。\n"
      ]
    },
    {
      "cell_type": "code",
      "metadata": {
        "id": "MEIXUvjrsq9A"
      },
      "source": [
        "filters = 2 #フィルタ数の変更\n",
        "\n",
        "model = Sequential()\n",
        "\n",
        "model.add(Conv2D(filters, (3, 3), input_shape=(28,28,1)))\n",
        "model.add(Activation('relu'))\n",
        "model.add(MaxPooling2D(pool_size=(2,2)))\n",
        "\n",
        "# Fully connected layer\n",
        "model.add(Flatten())\n",
        "\n",
        "model.add(Dense(10))\n",
        "model.add(Activation('softmax'))"
      ],
      "execution_count": 37,
      "outputs": []
    },
    {
      "cell_type": "code",
      "metadata": {
        "id": "uUeF4ktWsyng"
      },
      "source": [
        "model.compile(loss='categorical_crossentropy', optimizer='adam', metrics=['accuracy'])"
      ],
      "execution_count": 38,
      "outputs": []
    },
    {
      "cell_type": "code",
      "metadata": {
        "id": "HnACnb0-s99Z",
        "colab": {
          "base_uri": "https://localhost:8080/"
        },
        "outputId": "c9445a4c-ac47-412b-da3f-090eadf6cc53"
      },
      "source": [
        "model.fit(X_train, Y_train, batch_size=128, epochs=3,verbose=1, validation_data=(X_test, Y_test))\r\n",
        "# エポック数の変更：epochs=3の数字を変更する\r\n",
        "# バッチサイズの変更： batch_size=128の数字を変更する"
      ],
      "execution_count": 39,
      "outputs": [
        {
          "output_type": "stream",
          "text": [
            "Epoch 1/3\n",
            "469/469 [==============================] - 2s 4ms/step - loss: 1.1626 - accuracy: 0.6606 - val_loss: 0.3294 - val_accuracy: 0.9087\n",
            "Epoch 2/3\n",
            "469/469 [==============================] - 2s 3ms/step - loss: 0.3322 - accuracy: 0.9029 - val_loss: 0.2915 - val_accuracy: 0.9163\n",
            "Epoch 3/3\n",
            "469/469 [==============================] - 2s 3ms/step - loss: 0.2984 - accuracy: 0.9139 - val_loss: 0.2731 - val_accuracy: 0.9205\n"
          ],
          "name": "stdout"
        },
        {
          "output_type": "execute_result",
          "data": {
            "text/plain": [
              "<tensorflow.python.keras.callbacks.History at 0x7fed035bd320>"
            ]
          },
          "metadata": {
            "tags": []
          },
          "execution_count": 39
        }
      ]
    },
    {
      "cell_type": "code",
      "metadata": {
        "id": "YAGfGftss-wW",
        "colab": {
          "base_uri": "https://localhost:8080/"
        },
        "outputId": "ce6248fd-dba9-4d8f-b7f1-adf3056028ca"
      },
      "source": [
        "score = model.evaluate(X_test, Y_test)\n",
        "print(\"精度は{0:.1f}パーセントです。\".format(score[1]*100))"
      ],
      "execution_count": 40,
      "outputs": [
        {
          "output_type": "stream",
          "text": [
            "313/313 [==============================] - 1s 2ms/step - loss: 0.2731 - accuracy: 0.9205\n",
            "精度は92.0パーセントです。\n"
          ],
          "name": "stdout"
        }
      ]
    },
    {
      "cell_type": "code",
      "metadata": {
        "id": "zozeI4jbtCv7",
        "colab": {
          "base_uri": "https://localhost:8080/"
        },
        "outputId": "04df6268-c642-4ddb-c275-e13e738d1ef2"
      },
      "source": [
        "# 間違えた数字だけを取り出す\n",
        "predictions = model.predict_classes(X_test)\n",
        "predictions = list(predictions)\n",
        "actuals = list(y_test)\n",
        "df = pd.DataFrame({'Actual': actuals, 'Predictions': predictions})\n",
        "df_and = df[(df['Actual'] != df['Predictions'])]"
      ],
      "execution_count": 41,
      "outputs": [
        {
          "output_type": "stream",
          "text": [
            "/usr/local/lib/python3.6/dist-packages/tensorflow/python/keras/engine/sequential.py:450: UserWarning: `model.predict_classes()` is deprecated and will be removed after 2021-01-01. Please use instead:* `np.argmax(model.predict(x), axis=-1)`,   if your model does multi-class classification   (e.g. if it uses a `softmax` last-layer activation).* `(model.predict(x) > 0.5).astype(\"int32\")`,   if your model does binary classification   (e.g. if it uses a `sigmoid` last-layer activation).\n",
            "  warnings.warn('`model.predict_classes()` is deprecated and '\n"
          ],
          "name": "stderr"
        }
      ]
    },
    {
      "cell_type": "code",
      "metadata": {
        "id": "v_awKiMWtImD",
        "colab": {
          "base_uri": "https://localhost:8080/",
          "height": 359
        },
        "outputId": "d008094b-c016-4d3c-e140-d97c37a1bdb1"
      },
      "source": [
        "df_and.head(10)"
      ],
      "execution_count": 42,
      "outputs": [
        {
          "output_type": "execute_result",
          "data": {
            "text/html": [
              "<div>\n",
              "<style scoped>\n",
              "    .dataframe tbody tr th:only-of-type {\n",
              "        vertical-align: middle;\n",
              "    }\n",
              "\n",
              "    .dataframe tbody tr th {\n",
              "        vertical-align: top;\n",
              "    }\n",
              "\n",
              "    .dataframe thead th {\n",
              "        text-align: right;\n",
              "    }\n",
              "</style>\n",
              "<table border=\"1\" class=\"dataframe\">\n",
              "  <thead>\n",
              "    <tr style=\"text-align: right;\">\n",
              "      <th></th>\n",
              "      <th>Actual</th>\n",
              "      <th>Predictions</th>\n",
              "    </tr>\n",
              "  </thead>\n",
              "  <tbody>\n",
              "    <tr>\n",
              "      <th>8</th>\n",
              "      <td>5</td>\n",
              "      <td>6</td>\n",
              "    </tr>\n",
              "    <tr>\n",
              "      <th>18</th>\n",
              "      <td>3</td>\n",
              "      <td>2</td>\n",
              "    </tr>\n",
              "    <tr>\n",
              "      <th>33</th>\n",
              "      <td>4</td>\n",
              "      <td>6</td>\n",
              "    </tr>\n",
              "    <tr>\n",
              "      <th>92</th>\n",
              "      <td>9</td>\n",
              "      <td>4</td>\n",
              "    </tr>\n",
              "    <tr>\n",
              "      <th>149</th>\n",
              "      <td>2</td>\n",
              "      <td>9</td>\n",
              "    </tr>\n",
              "    <tr>\n",
              "      <th>195</th>\n",
              "      <td>3</td>\n",
              "      <td>5</td>\n",
              "    </tr>\n",
              "    <tr>\n",
              "      <th>233</th>\n",
              "      <td>8</td>\n",
              "      <td>7</td>\n",
              "    </tr>\n",
              "    <tr>\n",
              "      <th>241</th>\n",
              "      <td>9</td>\n",
              "      <td>2</td>\n",
              "    </tr>\n",
              "    <tr>\n",
              "      <th>245</th>\n",
              "      <td>3</td>\n",
              "      <td>6</td>\n",
              "    </tr>\n",
              "    <tr>\n",
              "      <th>247</th>\n",
              "      <td>4</td>\n",
              "      <td>2</td>\n",
              "    </tr>\n",
              "  </tbody>\n",
              "</table>\n",
              "</div>"
            ],
            "text/plain": [
              "     Actual  Predictions\n",
              "8         5            6\n",
              "18        3            2\n",
              "33        4            6\n",
              "92        9            4\n",
              "149       2            9\n",
              "195       3            5\n",
              "233       8            7\n",
              "241       9            2\n",
              "245       3            6\n",
              "247       4            2"
            ]
          },
          "metadata": {
            "tags": []
          },
          "execution_count": 42
        }
      ]
    },
    {
      "cell_type": "code",
      "metadata": {
        "id": "awmoUt0rtMCp",
        "colab": {
          "base_uri": "https://localhost:8080/",
          "height": 511
        },
        "outputId": "2413e642-5652-421c-f491-737076f57744"
      },
      "source": [
        "### img_numの数字を自分の好きな数字を設定して確認しましょう\n",
        "\n",
        "img_num = 33 #任意の画像番号\n",
        "\n",
        "###\n",
        "plt.imshow(x_test[img_num,:,:,0]) #画像を表示する\n",
        "print(\"表示している画像は\",y_test[img_num],\"で、\",df_and.loc[img_num, 'Predictions'],\"と間違えました。\")\n",
        "#表示している画像の数字を確認する。"
      ],
      "execution_count": 43,
      "outputs": [
        {
          "output_type": "stream",
          "text": [
            "表示している画像は 4 で、 6 と間違えました。\n"
          ],
          "name": "stdout"
        },
        {
          "output_type": "display_data",
          "data": {
            "image/png": "[encoded data removed]",
            "text/plain": [
              "<Figure size 576x720 with 1 Axes>"
            ]
          },
          "metadata": {
            "tags": [],
            "needs_background": "light"
          }
        }
      ]
    },
    {
      "cell_type": "code",
      "metadata": {
        "id": "YNqfR_XotWKa"
      },
      "source": [
        ""
      ],
      "execution_count": null,
      "outputs": []
    }
  ]
}